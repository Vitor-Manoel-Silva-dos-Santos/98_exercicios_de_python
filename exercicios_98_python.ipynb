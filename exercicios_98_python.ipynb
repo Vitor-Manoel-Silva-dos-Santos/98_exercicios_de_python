{
 "cells": [
  {
   "cell_type": "code",
   "execution_count": 1,
   "id": "weekly-denver",
   "metadata": {},
   "outputs": [
    {
     "name": "stdout",
     "output_type": "stream",
     "text": [
      "Digite um número:44\n",
      "Analisando o valor 44 o número antecessor é 43 e o número sucessor é 45\n"
     ]
    }
   ],
   "source": [
    "#1 - Programa que leia um número inteiro por tela e mostre seu sucessor e antecessor:\n",
    "\n",
    "n=int(input(\"Digite um número: \"))\n",
    "suce=n+1\n",
    "ante=n-1\n",
    "print(\"Analisando o valor {}, o número antecessor é {} e o número sucessor é {}.\".format(n,ante,suce))"
   ]
  },
  {
   "cell_type": "code",
   "execution_count": 2,
   "id": "separate-attitude",
   "metadata": {},
   "outputs": [
    {
     "name": "stdout",
     "output_type": "stream",
     "text": [
      "Digite um número: 4\n",
      "O dobro do número digitado (4) é= 16\n",
      "O triplo do número digitado(4) é= 64\n",
      "A raiz quadrada do número digitado (4) é= 2.00\n"
     ]
    }
   ],
   "source": [
    "#2 - Programa que leia um número e mostre seu dobro, triplo e raiz quadrada:\n",
    "import math\n",
    "n=int(input(\"Digite um número: \"))\n",
    "dobro=n**2\n",
    "triplo=n**3\n",
    "raiz= math.sqrt(n)\n",
    "print(\"O dobro do número digitado ({}) é= {}\".format(n,dobro))\n",
    "print(\"O triplo do número digitado({}) é= {}\".format(n,triplo))\n",
    "print(\"A raiz quadrada do número digitado ({}) é= {:.2f}\".format(n,raiz))"
   ]
  },
  {
   "cell_type": "code",
   "execution_count": 4,
   "id": "underlying-emergency",
   "metadata": {},
   "outputs": [
    {
     "name": "stdout",
     "output_type": "stream",
     "text": [
      "Qual foi sua primeira nota: 10\n",
      "Qual foi sua segunda nota: 9\n",
      "A média das notas n1= 10.0 e n2= 9.0 é = 9.5\n"
     ]
    }
   ],
   "source": [
    "#3 - Programa que leia duas notas de um aluno e mostre sua média:\n",
    "n1=float(input(\"Qual foi sua primeira nota: \"))\n",
    "n2=float(input(\"Qual foi sua segunda nota: \"))\n",
    "media=(n1+n2)/2\n",
    "print(\"A média das notas n1= {:.1f} e n2= {:.1f} é = {:.1f}\".format(n1,n2,media))\n"
   ]
  },
  {
   "cell_type": "code",
   "execution_count": 5,
   "id": "objective-diameter",
   "metadata": {},
   "outputs": [
    {
     "name": "stdout",
     "output_type": "stream",
     "text": [
      "Conversor de metros para cm e mm<<\n",
      "Metros= 600\n",
      "Centímetros= 60000.0\n",
      "Milímetros= 600000.0\n"
     ]
    }
   ],
   "source": [
    "#4 - Programa que leia em metros e retorne em cm e mm:\n",
    "\n",
    "m=float(input(\"Conversor de metros para cm e mm<<\\nMetros= \"))\n",
    "cm=m*100\n",
    "mm=m*1000\n",
    "print(\"Centímetros= {}\".format(cm))\n",
    "print(\"Milímetros= {}\".format(mm))"
   ]
  },
  {
   "cell_type": "code",
   "execution_count": 7,
   "id": "damaged-pledge",
   "metadata": {},
   "outputs": [
    {
     "name": "stdout",
     "output_type": "stream",
     "text": [
      ">>>Tabuada<<<\n",
      "Digite um número: 25\n",
      "|25 * 1  = 25  |\n",
      "|25 * 2  = 50  |\n",
      "|25 * 3  = 75  |\n",
      "|25 * 4  = 100  |\n",
      "|25 * 5  = 125  |\n",
      "|25 * 6  = 150  |\n",
      "|25 * 7  = 175  |\n",
      "|25 * 8  = 200  |\n",
      "|25 * 9  = 225  |\n",
      "|25 * 10 = 250  |\n"
     ]
    }
   ],
   "source": [
    "#5 - Tabuada do número digitado:\n",
    "\n",
    "n=int(input(\">>>Tabuada<<<\\nDigite um número: \"))\n",
    "print(\"|{} * 1  = {}  |\".format(n,(n*1)))\n",
    "print(\"|{} * 2  = {}  |\".format(n,(n*2)))\n",
    "print(\"|{} * 3  = {}  |\".format(n,(n*3)))\n",
    "print(\"|{} * 4  = {}  |\".format(n,(n*4)))\n",
    "print(\"|{} * 5  = {}  |\".format(n,(n*5)))\n",
    "print(\"|{} * 6  = {}  |\".format(n,(n*6)))\n",
    "print(\"|{} * 7  = {}  |\".format(n,(n*7)))\n",
    "print(\"|{} * 8  = {}  |\".format(n,(n*8)))\n",
    "print(\"|{} * 9  = {}  |\".format(n,(n*9)))\n",
    "print(\"|{} * 10 = {}  |\".format(n,(n*10)))\n"
   ]
  },
  {
   "cell_type": "code",
   "execution_count": 9,
   "id": "according-campus",
   "metadata": {},
   "outputs": [
    {
     "name": "stdout",
     "output_type": "stream",
     "text": [
      "Conversor Real para Dólares:\n",
      "Quanto você possui na carteira?40\n",
      "Com R$40.0 reais, você possui U$ 130.80 dólares\n"
     ]
    }
   ],
   "source": [
    "#6 - Dinheiro na carteira e mostre o valor em dólares:\n",
    "\n",
    "vr=float(input(\"Conversor Real para Dólares:\\nQuanto você possui na carteira?\"))\n",
    "vd=3.27 # VALOR EM DOLARES FICTÍCIO.  \n",
    "cd=vr/vd\n",
    "print(\"Com R${} reais, você possui U$ {:.2f} dólares\".format(vr,cd))\n"
   ]
  },
  {
   "cell_type": "code",
   "execution_count": 10,
   "id": "angry-witness",
   "metadata": {},
   "outputs": [
    {
     "name": "stdout",
     "output_type": "stream",
     "text": [
      "Qual a altura da parede? 40\n",
      "Qual a largura da parede? 70\n",
      "2800.0 m² de parede\n",
      "Será ultilizado 1400.0 litros\n"
     ]
    }
   ],
   "source": [
    "#7 - Programa que leia altura e largura e retorne com o valor de tinta para pintar uma parede, sendo que, uma lata de tinta pinta 2m²:\n",
    "\n",
    "a=float(input(\"Qual a altura da parede? \"))\n",
    "l=float(input(\"Qual a largura da parede? \"))\n",
    "resultante=(a*l)\n",
    "litro=resultante/2\n",
    "print(\"{} m² de parede\".format(resultante))\n",
    "print(\"Será utilizado {} litros\".format(litro))"
   ]
  },
  {
   "cell_type": "code",
   "execution_count": 12,
   "id": "horizontal-fourth",
   "metadata": {},
   "outputs": [
    {
     "name": "stdout",
     "output_type": "stream",
     "text": [
      "Desconto de 5% encima do valor do produto.\n",
      "Introduza o valor atual do produto para que haja um desconto de 5%:140\n",
      "O valor anterior do produto: 140.0\n",
      "O valor atual do produto: 133.00\n"
     ]
    }
   ],
   "source": [
    "#8 - Programa dê desconto de 5% encima do valor de venda do produto: \n",
    "\n",
    "valor=float(input(\"Desconto de 5% encima do valor do produto.\\nIntroduza o valor atual do produto para que haja um desconto de 5%:\"))\n",
    "porcentagem=5/100\n",
    "vatual=valor-(valor*porcentagem)\n",
    "print(\"O valor anterior do produto: {}\\nO valor atual do produto: {:.2f}\".format(valor,vatual))\n"
   ]
  },
  {
   "cell_type": "code",
   "execution_count": 13,
   "id": "ecological-empire",
   "metadata": {},
   "outputs": [
    {
     "name": "stdout",
     "output_type": "stream",
     "text": [
      "Digite o salário atual do funcionário: 1000\n",
      "O salário com 15% de aumento é: 1300.00\n"
     ]
    }
   ],
   "source": [
    "#9 - Programa que leia salário de funcionário e retorne com aumento de 15%:\n",
    "a = 30\n",
    "s=float(input(\"Digite o salário atual do funcionário: \"))\n",
    "valorcomp=s+s*(a/100)\n",
    "print(\"O salário com 15% de aumento é: {:.2f}\".format(valorcomp))"
   ]
  },
  {
   "cell_type": "code",
   "execution_count": 14,
   "id": "elect-article",
   "metadata": {},
   "outputs": [
    {
     "name": "stdout",
     "output_type": "stream",
     "text": [
      "Introduza a temperatura em ºC: 25\n",
      "A temperatura de 25.0 ºC de acordo com a função (25.0*1.8+32), é de 77.0 ºF\n"
     ]
    }
   ],
   "source": [
    "#10 - Programa conversor de temperatura de ºC para ºF:\n",
    "c=float(input(\"Introduza a temperatura em ºC: \"))\n",
    "cons=32\n",
    "consa=9/5\n",
    "print(\"A temperatura de {} ºC, de acordo com a função ({}*{}+{}), é de {} ºF.\".format(c,c,consa,cons,(c*consa+(cons))))\n"
   ]
  },
  {
   "cell_type": "code",
   "execution_count": 17,
   "id": "amazing-isaac",
   "metadata": {},
   "outputs": [
    {
     "name": "stdout",
     "output_type": "stream",
     "text": [
      "Quantos dias de aluguel do carro? 1\n",
      "Quantos km foram rodados? 25\n",
      "O carro foi utilizado 1 dia(s), com 25.0 km(s) rodados. Sendo assim, total a pagar é de R$ 63.75.\n"
     ]
    }
   ],
   "source": [
    "#11 - Programa que pergunte a quantidade de dias de um aluguel de um carro e a km, mostrando o valor a pagar, sendo que, R$60,00/dia e R$0,15/km rodado.\n",
    "c=int(input(\"Quantos dias de aluguel do carro? \"))\n",
    "km=float(input(\"Quantos km foram rodados? \"))\n",
    "a=c*60\n",
    "b=km*0.15\n",
    "c1=a+b\n",
    "print(\"O carro foi utilizado {} dia(s), com {} km rodados. Sendo assim, total a pagar é de R$ {}.\".format(c,km,c1))"
   ]
  },
  {
   "cell_type": "code",
   "execution_count": null,
   "id": "above-venue",
   "metadata": {},
   "outputs": [],
   "source": [
    "'''import #importa bibliotecas \n",
    "import math #importa bibliotecas matemáticas \n",
    "ceil #Faz um arredondamento para cima \n",
    "floor #Faz um arredondamento para baixo\n",
    "trunc #elimina números da vírgula da frente \n",
    "pow #power potência\n",
    "sqrt #raiz quadrada\n",
    "factorial #fatorial '''"
   ]
  },
  {
   "cell_type": "code",
   "execution_count": 19,
   "id": "driving-margin",
   "metadata": {},
   "outputs": [
    {
     "name": "stdout",
     "output_type": "stream",
     "text": [
      "Digite um número real com três casas após a vírgula: 800.360\n",
      "O número digitado é: 800.36\n",
      "E sua porção inteira é: 800\n"
     ]
    }
   ],
   "source": [
    "#12 - Programa que leia um número real e mostre sua porção inteira\n",
    "import math\n",
    "n=float(input(\"Digite um número real com três casas após a vírgula: \"))\n",
    "print(\"O número digitado é: {}\\nE sua porção inteira é: {}\".format(n,(math.trunc(n))))\n"
   ]
  },
  {
   "cell_type": "code",
   "execution_count": 20,
   "id": "irish-advancement",
   "metadata": {},
   "outputs": [
    {
     "name": "stdout",
     "output_type": "stream",
     "text": [
      "Qual o valor do cateto oposto do triângulo? 5\n",
      "Qual o valor do cateto adjacente do triângulo? 20\n",
      "Com os valores do cateto oposto 5.0 e cateto adjacente 20.0, temos que hipotenusa: 20.62\n"
     ]
    }
   ],
   "source": [
    "#13 - Programa que leia o cateto oposto e o cateto adjacente de um triângulo e mostre sua hipotenusa:\n",
    "import math\n",
    "co=float(input(\"Qual o valor do cateto oposto do triângulo? \"))\n",
    "ca=float(input(\"Qual o valor do cateto adjacente do triângulo? \"))\n",
    "h=math.sqrt(co**2+ca**2)\n",
    "print(\"Com os valores do cateto oposto {} e cateto adjacente {}, temos que hipotenusa: {:.2f}\".format(co,ca,h))\n"
   ]
  },
  {
   "cell_type": "code",
   "execution_count": 21,
   "id": "rolled-apache",
   "metadata": {},
   "outputs": [
    {
     "name": "stdout",
     "output_type": "stream",
     "text": [
      "Digite o valor do ângulo: 30\n",
      "Sen: 0.50\n",
      "Cos: 0.87\n",
      "Tang: 0.58\n"
     ]
    }
   ],
   "source": [
    "#14 - Programa que leia um ângulo qualquer e mostre o valor de seu seno, cosseno e tangente.\n",
    "import math\n",
    "a=float(input(\"Digite o valor do ângulo: \"))\n",
    "print(\"Sen: {:.2f}\".format(math.sin(math.radians(a))))\n",
    "print(\"Cos: {:.2f}\".format(math.cos(math.radians(a))))\n",
    "print(\"Tang: {:.2f}\".format(math.tan(math.radians(a))))\n",
    "\n",
    "#pode-se medir a hipotenusa com o método math.hypot.\n"
   ]
  },
  {
   "cell_type": "code",
   "execution_count": 24,
   "id": "progressive-reconstruction",
   "metadata": {},
   "outputs": [
    {
     "name": "stdout",
     "output_type": "stream",
     "text": [
      ">>>Sorteio<<<\n",
      "Digite o nome de quatro alunos (um de cada vez)\n",
      "Digite o nome do primeiro aluno: vitor\n",
      "Digite o nome do segundo aluno: lara\n",
      "Digite o nome do terceiro aluno: woody\n",
      "Digite o nome do quarto aluno: mel\n",
      "O aluno escolhido é: Vitor\n"
     ]
    }
   ],
   "source": [
    "#15 - Programa que leia nome de quatro alunos e sorteie um aluno:\n",
    "import random\n",
    "\n",
    "a1=str(input(\">>>Sorteio<<<\\nDigite o nome de quatro alunos (um de cada vez)\\nDigite o nome do primeiro aluno: \")).capitalize()\n",
    "a2=str(input(\"Digite o nome do segundo aluno: \")).capitalize()\n",
    "a3=str(input(\"Digite o nome do terceiro aluno: \")).capitalize()\n",
    "a4=str(input(\"Digite o nome do quarto aluno: \")).capitalize()\n",
    "\n",
    "lista = [a1, a2, a3, a4]\n",
    "\n",
    "azar = random.choice(lista)\n",
    "print(\"O aluno escolhido é: {}\".format(azar))\n",
    "\n",
    "\n"
   ]
  },
  {
   "cell_type": "code",
   "execution_count": 27,
   "id": "inside-james",
   "metadata": {},
   "outputs": [
    {
     "name": "stdout",
     "output_type": "stream",
     "text": [
      ">>>DESORDEM<<<\n",
      "Digite o nome de quatro alunos (um de cada vez)\n",
      "Digite o nome do primeiro aluno: LARA\n",
      "Digite o nome do segundo aluno: mel\n",
      "Digite o nome do terceiro aluno: woody\n",
      "Digite o nome do quarto aluno: juan\n",
      "Ordem antiga: ['Lara', 'Mel', 'Woody', 'Juan']\n",
      "A nova ordem: ['Lara', 'Juan', 'Woody', 'Mel'] \n"
     ]
    }
   ],
   "source": [
    "#16 - Programa que troca a ordem da lista:\n",
    "import random\n",
    "\n",
    "a1=str(input(\">>>DESORDEM<<<\\nDigite o nome de quatro alunos (um de cada vez)\\nDigite o nome do primeiro aluno: \")).capitalize()\n",
    "a2=str(input(\"Digite o nome do segundo aluno: \")).capitalize()\n",
    "a3=str(input(\"Digite o nome do terceiro aluno: \")).capitalize()\n",
    "a4=str(input(\"Digite o nome do quarto aluno: \")).capitalize()\n",
    "\n",
    "lista = [a1, a2, a3, a4]\n",
    "print(\"Ordem antiga: {}\".format(lista))\n",
    "random.shuffle(lista)\n",
    "print(\"A nova ordem: {} \".format(lista))\n",
    "\n"
   ]
  },
  {
   "cell_type": "code",
   "execution_count": null,
   "id": "fatty-contractor",
   "metadata": {},
   "outputs": [],
   "source": [
    "'''frase.find(variavel)#encontra em que posição a palavra iniciou\n",
    "frase.count(variavel)#encontra a quantidade que se repete\n",
    "len(variavel) #conta todos os caracteres de uma variável\n",
    "palavra in variavel #procura uma palavra em uma variável de texto\n",
    "variavel.replace(var,variaveis) #substitui uma palavra em uma variavel\n",
    "variavel.upper()#torna todas as letras dentro da variavel de text maiúsculas\n",
    "variavel.lower()#torna todas as letras dentro da variavel de texto minúsculas\n",
    "variavel.capitalize()#torna somente a primeira letra da cadeia de texto maiúscula\n",
    "variavel.title() #analisa os espaços da cadeia de texto e torna cada palavra uma letra maiúscula inicial\n",
    "variavel.strip() #remove espaços inúteis\n",
    "variavel.rstrip() #remove espaços inúteis do lado direito\n",
    "variavel.lstrip() #remove espaços inúteis do lado esquerdo\n",
    "\n",
    "DIVISÃO\n",
    "\n",
    "variavel.split() #Divide toda a cadeia de texto da variável em novas cadeias de textos com uma palavra, gerando uma lista de palavras de uma cadeia.\n",
    "'-'.join(variavel) # junta os espaços da cadeia de texto com a simbulatura que desejar'''\n",
    "\n"
   ]
  },
  {
   "cell_type": "code",
   "execution_count": 28,
   "id": "cross-cocktail",
   "metadata": {},
   "outputs": [
    {
     "name": "stdout",
     "output_type": "stream",
     "text": [
      "Digite seu nome completo: Vitor Manoel Silva dos Santos\n",
      "Maiúsculas: VITOR MANOEL SILVA DOS SANTOS\n",
      "Minúsculas : vitor manoel silva dos santos\n",
      "Quantidade de caracteres: 25\n",
      "Quantidade de caracters no primeiro nome: 5\n"
     ]
    }
   ],
   "source": [
    "#17 - Programa que leia o nome completo de uma pessoa e mostre:\n",
    "#O nome completo com todas as letras maiúsculas:\n",
    "#O nome com todas minúsculas\n",
    "#Todas as letras sem considerar espaços \n",
    "#Quantas letras tem o primeiro nome\n",
    "\n",
    "nome=str(input(\"Digite seu nome completo: \")).strip()\n",
    "manome=nome.upper()\n",
    "print(\"Maiúsculas: {}\".format(manome))\n",
    "minome=nome.lower()\n",
    "print(\"Minúsculas : {}\".format(minome))\n",
    "print(\"Quantidade de caracteres: {}\".format(len(nome) - nome.count(' ')))\n",
    "print(\"Quantidade de caracteres no primeiro nome: {}\".format(nome.find(' ')))"
   ]
  },
  {
   "cell_type": "code",
   "execution_count": 31,
   "id": "defensive-seventh",
   "metadata": {},
   "outputs": [
    {
     "name": "stdout",
     "output_type": "stream",
     "text": [
      "Digite um número com quatro dígitos: 333\n",
      "Esse número não pode ser analisado\n"
     ]
    }
   ],
   "source": [
    "#18 - Programa que leia um número de quatro dígitos e retorne com cada caracter:\n",
    "num=int(input(\"Digite um número com quatro dígitos: \"))\n",
    "u= num // 1 % 10\n",
    "d= num // 10 % 10\n",
    "c= num // 100 % 10\n",
    "m= num // 1000 % 10\n",
    "if (num) > 1000 and (num) < 9999:\n",
    "    print(\"Analisando: {}\".format(num))\n",
    "    print(\"Unidade: {} \".format(u))\n",
    "    print(\"Dezena: {} \".format(d))\n",
    "    print(\"Centena: {}\".format(c))\n",
    "    print(\"Milhar: {}\".format(m))\n",
    "else:\n",
    "    print(\"Esse número não pode ser analisado\")"
   ]
  },
  {
   "cell_type": "code",
   "execution_count": 35,
   "id": "appreciated-gallery",
   "metadata": {},
   "outputs": [
    {
     "name": "stdout",
     "output_type": "stream",
     "text": [
      "Qual o nome da sua cidade: Santo André\n",
      "Sim, o nome da sua cidade possui a palavra 'Santo'.\n"
     ]
    }
   ],
   "source": [
    "#19 - Programa que leia o nome de uma cidade e diga se começa ou não com a palavra Santo.\n",
    "cidade=str(input(\"Qual o nome da sua cidade: \")).strip().upper()\n",
    "if \"SANTO\" in cidade:\n",
    "    print(\"Sim, o nome da sua cidade possui a palavra 'Santo'.\")\n",
    "else:\n",
    "    print(\"Não, o nome da sua cidade não possui a palavra 'Santo'.\")"
   ]
  },
  {
   "cell_type": "code",
   "execution_count": 38,
   "id": "played-garbage",
   "metadata": {},
   "outputs": [
    {
     "name": "stdout",
     "output_type": "stream",
     "text": [
      "Digite seu nome completo: Juan Marquez Fernandez de Albuquerque.\n",
      "Seu nome não possui 'Silva'\n"
     ]
    }
   ],
   "source": [
    "#20 - leia o nome de uma pessoa e diga se possui Silva:\n",
    "\n",
    "nome=str(input(\"Digite seu nome completo: \")).lower()\n",
    "if \"silva\" in nome:\n",
    "    print(\"Seu nome possui 'Silva'\")\n",
    "else:\n",
    "    print(\"Seu nome não possui 'Silva'\")"
   ]
  },
  {
   "cell_type": "code",
   "execution_count": 39,
   "id": "clean-coral",
   "metadata": {},
   "outputs": [
    {
     "name": "stdout",
     "output_type": "stream",
     "text": [
      "Digite uma frase: hoje o céu esta bonito\n",
      "A letra (A) aparece 1 vezes\n",
      "A primeira vez a aparecer a letra (A) ocorreu na posição 14\n",
      "A última vez a aparcer a letra (A) ocorreu na posição 14\n"
     ]
    }
   ],
   "source": [
    "#21 - Programa que leia uma frase e mostre quantas vezes aparece a letra 'a', em que posição aparece pela primeira vez a letra e em que posição aparece pela última vez.\n",
    "\n",
    "nome=str(input(\"Digite uma frase: \")).strip().upper()\n",
    "\n",
    "print(\"A letra (A) aparece {} vezes\".format(nome.count('A')))\n",
    "print(\"A primeira vez a aparecer a letra (A) ocorreu na posição {}\".format(nome.find('A')))\n",
    "print(\"A última vez a aparcer a letra (A) ocorreu na posição {}\".format(nome.rfind('A')))"
   ]
  },
  {
   "cell_type": "code",
   "execution_count": 40,
   "id": "unique-worst",
   "metadata": {},
   "outputs": [
    {
     "name": "stdout",
     "output_type": "stream",
     "text": [
      "Digite seu nome completo: Vitor Manoel silva dos santos\n",
      "Seu primeiro nome é vitor\n",
      "Seu último nome é santos\n"
     ]
    }
   ],
   "source": [
    "# 22 - Programa que identifica seu primeiro e último nome:\n",
    "n=str(input(\"Digite seu nome completo: \")).lower()\n",
    "nome=n.split()\n",
    "print(\"Seu primeiro nome é {}\".format(nome[0]))\n",
    "print(\"Seu último nome é {}\".format(nome[len(nome) -1]))\n",
    "\n"
   ]
  },
  {
   "cell_type": "code",
   "execution_count": 43,
   "id": "precise-sweden",
   "metadata": {},
   "outputs": [
    {
     "name": "stdout",
     "output_type": "stream",
     "text": [
      "Que número estou pensando? 3\n",
      "\u001b[34mProcessando...\n",
      "\u001b[31mVocê pensou no número 3, e eu no número 0. Não pensamos igual!\n"
     ]
    }
   ],
   "source": [
    "#23 - Programa que faça um computador pensar em um número inteiro de 1 a 5.\n",
    "from random import randint\n",
    "from time import sleep\n",
    "computador= randint(0,5)\n",
    "n=int(input(\"\\033[35mQue número estou pensando? \"))\n",
    "print(\"\\033[34mProcessando...\")\n",
    "sleep(3)\n",
    "\n",
    "\n",
    "if computador == n:\n",
    "    print(\"\\033[32mVocê pensou no número {}, e eu no número {}. Pensamos igual!\".format(n,computador))\n",
    "else:\n",
    "    print(\"\\033[31mVocê pensou no número {}, e eu no número {}. Não pensamos igual!\".format(n,computador))"
   ]
  },
  {
   "cell_type": "code",
   "execution_count": null,
   "id": "consolidated-mining",
   "metadata": {},
   "outputs": [],
   "source": []
  },
  {
   "cell_type": "code",
   "execution_count": 97,
   "id": "ambient-employer",
   "metadata": {},
   "outputs": [
    {
     "name": "stdout",
     "output_type": "stream",
     "text": [
      "Supondo que esteja em um carro dirigindo\n",
      "Qual sua valocidade agora? 100\n",
      "Vc esta sendo multado, pois esta a 100.0 km/h, sua multa é de R$7,00, por km acima.\n",
      "Sua multa é de R$140.0 \n"
     ]
    }
   ],
   "source": [
    "#24 - Programa que leia a velocidade de um carro e diga se está alta ou baixa.\n",
    "v=float(input(\"Supondo que esteja em um carro dirigindo\\nQual sua valocidade agora? \"))\n",
    "if v > 80:\n",
    "    a=(v-80)*7\n",
    "    print(\"Você esta sendo multado, pois esta a {} km/h, sua multa é de R$7,00, por km acima.\\nSua multa é de R${} \". format(v,a))\n",
    "else:\n",
    "    print(\"Boa viagem\")\n",
    "  "
   ]
  },
  {
   "cell_type": "code",
   "execution_count": 45,
   "id": "narrow-average",
   "metadata": {},
   "outputs": [
    {
     "name": "stdout",
     "output_type": "stream",
     "text": [
      "Digite um número: 633\n",
      "O número 633 é \u001b[31mimpar\n"
     ]
    }
   ],
   "source": [
    "#25 - Programa que analise um número e retorne se o numero é par ou ímpar:\n",
    "n=int(input(\"Digite um número: \"))\n",
    "if n % 2==0:\n",
    "    print(\"O número {} é \\033[32mpar.\".format(n))\n",
    "else:\n",
    "    print(\"O número {} é \\033[31mímpar.\".format(n))"
   ]
  },
  {
   "cell_type": "code",
   "execution_count": 46,
   "id": "constant-salad",
   "metadata": {},
   "outputs": [
    {
     "name": "stdout",
     "output_type": "stream",
     "text": [
      "Quantos kms terá sua viagem?10\n",
      "O valor da passagem é de R$5.0\n"
     ]
    }
   ],
   "source": [
    "#26 - Programa que leia a km da viagem e retorne o valor, onde R$ 0,50 para viagens até 200 km e R$ 0,45 para viagens mais longas.\n",
    "n=float(input(\"Quantos km terá sua viagem? \"))\n",
    "if n <= 200:\n",
    "    print(\"O valor da passagem é de R${}.\".format(n*0.50))\n",
    "else:\n",
    "    print(\"O valor da passagem é de R${}.\".format(n*0.45))\n"
   ]
  },
  {
   "cell_type": "code",
   "execution_count": 49,
   "id": "voluntary-suffering",
   "metadata": {},
   "outputs": [
    {
     "name": "stdout",
     "output_type": "stream",
     "text": [
      "Que ano você quer saber se é bissexto? 0\n",
      "\u001b[032m2021 Não é bissexto.\n"
     ]
    }
   ],
   "source": [
    "#27 - Programa que leia o ano e diga se é bissexto:\n",
    "from datetime import date\n",
    "ano=int(input(\"Que ano você quer saber se é bissexto? \"))\n",
    "if ano == 0:\n",
    "    ano=date.today().year\n",
    "if (ano) % 4 == 0 and (ano) % 100 != 0 or (ano) % 400==0:\n",
    "    print(\"\\033[034m{} Ano bissexto.\".format(ano))\n",
    "else:\n",
    "    print(\"\\033[032m{} Não é bissexto.\".format(ano))\n"
   ]
  },
  {
   "cell_type": "code",
   "execution_count": 50,
   "id": "dimensional-internship",
   "metadata": {},
   "outputs": [
    {
     "name": "stdout",
     "output_type": "stream",
     "text": [
      "Digite um número: 10\n",
      "Digite um segundo número: 11\n",
      "Digite um terceiro número: 9\n",
      "O menor número digitado é: 9.\n",
      "O maior número digitado é: 11.\n"
     ]
    }
   ],
   "source": [
    "#28 - Programa que leia três números e mostre o maior e o menor:\n",
    "a=int(input(\"Digite um número: \"))\n",
    "b=int(input(\"Digite um segundo número: \"))\n",
    "c=int(input(\"Digite um terceiro número: \"))\n",
    "\n",
    "menor= a\n",
    "if b<a and b<c:\n",
    "    menor = b \n",
    "if c<a and c<b:\n",
    "    menor = c\n",
    "print(\"O menor número digitado é: {}.\".format(menor))\n",
    "\n",
    "maior = a\n",
    "if b>a and b>c:\n",
    "    maior = b\n",
    "if c>a and c>b:\n",
    "    maior = c\n",
    "print(\"O maior número digitado é: {}.\".format(maior))"
   ]
  },
  {
   "cell_type": "code",
   "execution_count": 52,
   "id": "forward-literacy",
   "metadata": {},
   "outputs": [
    {
     "name": "stdout",
     "output_type": "stream",
     "text": [
      "Qual o valor do seu salário para aumento? 1000\n",
      "Salário anterior R$ 1000.0 e salário com aumento de 15% R$ 1150.0.\n"
     ]
    }
   ],
   "source": [
    "#29 - Programa que retorna um aumento salaria de 10 % se salário acima de R$ 1250, caso salário abaixo de R$ 1250 aumento de 15%.\n",
    "v=float(input(\"Qual o valor do seu salário para aumento? \"))\n",
    "if v <= 1250.00:\n",
    "    print(\"Salário anterior R$ {} e salário com aumento de 15% R$ {}.\".format(v,(v*(15/100))+v))\n",
    "else:\n",
    "    print(\"Salário anterior R$ {} e salário com aumento de 10% R$ {}.\".format(v,(v*(10/100))+v))"
   ]
  },
  {
   "cell_type": "code",
   "execution_count": 56,
   "id": "mental-renewal",
   "metadata": {},
   "outputs": [
    {
     "name": "stdout",
     "output_type": "stream",
     "text": [
      "Vamos formar um triângulo? \n",
      "Digite o valor de cada lado e veja se forma um triângulo:\n",
      " Valor lado 1:1\n",
      "Valor lado 2:24\n",
      "Valor lado 3:45\n",
      "Não é possivel formar um triângulo, com os lados a= 1.0, lado b= 24.0 e lado c= 45.0\n"
     ]
    }
   ],
   "source": [
    "#30 - Programa: Para construir um triângulo é necessário que a medida de qualquer um dos lados\n",
    "#seja menor que a soma das medidas dos outros dois lados e maior que o valor absoluto da diferença entre essas medidas.\n",
    "\n",
    "a=float(input(\"Vamos formar um triângulo? \\nDigite o valor de cada lado e veja se forma um triângulo:\\n Valor lado 1:\"))\n",
    "b=float(input(\"Valor lado 2:\"))\n",
    "c=float(input(\"Valor lado 3:\"))\n",
    "\n",
    "\n",
    "if a < b + c and b < a + c and c < a + b:\n",
    "    print(\"É possivel formar um triângulo, com lado a= {}, lado b= {} e lado c= {}.\".format(a,b,c))\n",
    "else: \n",
    "    print(\"Não é possivel formar um triângulo, com os lados a= {}, lado b= {} e lado c= {}\".format(a,b,c))"
   ]
  },
  {
   "cell_type": "code",
   "execution_count": 61,
   "id": "charitable-benefit",
   "metadata": {},
   "outputs": [
    {
     "ename": "KeyboardInterrupt",
     "evalue": "Interrupted by user",
     "output_type": "error",
     "traceback": [
      "\u001b[1;31m---------------------------------------------------------------------------\u001b[0m",
      "\u001b[1;31mKeyboardInterrupt\u001b[0m                         Traceback (most recent call last)",
      "\u001b[1;32m<ipython-input-61-c7d479fafcd0>\u001b[0m in \u001b[0;36m<module>\u001b[1;34m\u001b[0m\n\u001b[0;32m      1\u001b[0m \u001b[1;31m#31 - Programa que faça um empréstimo bancârio para compra de uma casa, Que peça o valor da casa, o salário do comprador e quantos anos ele vai pagar:\u001b[0m\u001b[1;33m\u001b[0m\u001b[1;33m\u001b[0m\u001b[1;33m\u001b[0m\u001b[0m\n\u001b[0;32m      2\u001b[0m \u001b[1;33m\u001b[0m\u001b[0m\n\u001b[1;32m----> 3\u001b[1;33m \u001b[0mc\u001b[0m\u001b[1;33m=\u001b[0m\u001b[0mfloat\u001b[0m\u001b[1;33m(\u001b[0m\u001b[0minput\u001b[0m\u001b[1;33m(\u001b[0m\u001b[1;34m\"\\033[32mQual o valor da casa? \"\u001b[0m\u001b[1;33m)\u001b[0m\u001b[1;33m)\u001b[0m\u001b[1;33m\u001b[0m\u001b[1;33m\u001b[0m\u001b[0m\n\u001b[0m\u001b[0;32m      4\u001b[0m \u001b[0ms\u001b[0m\u001b[1;33m=\u001b[0m\u001b[0mfloat\u001b[0m\u001b[1;33m(\u001b[0m\u001b[0minput\u001b[0m\u001b[1;33m(\u001b[0m\u001b[1;34m\"\\033[32mQual seu salário? \"\u001b[0m\u001b[1;33m)\u001b[0m\u001b[1;33m)\u001b[0m\u001b[1;33m\u001b[0m\u001b[1;33m\u001b[0m\u001b[0m\n\u001b[0;32m      5\u001b[0m \u001b[0mano\u001b[0m\u001b[1;33m=\u001b[0m\u001b[0mfloat\u001b[0m\u001b[1;33m(\u001b[0m\u001b[0minput\u001b[0m\u001b[1;33m(\u001b[0m\u001b[1;34m\"\\033[32mQuantos anos irá pagar? \"\u001b[0m\u001b[1;33m)\u001b[0m\u001b[1;33m)\u001b[0m\u001b[1;33m\u001b[0m\u001b[1;33m\u001b[0m\u001b[0m\n",
      "\u001b[1;32m~\\miniconda3\\lib\\site-packages\\ipykernel\\kernelbase.py\u001b[0m in \u001b[0;36mraw_input\u001b[1;34m(self, prompt)\u001b[0m\n\u001b[0;32m    858\u001b[0m                 \u001b[1;34m\"raw_input was called, but this frontend does not support input requests.\"\u001b[0m\u001b[1;33m\u001b[0m\u001b[1;33m\u001b[0m\u001b[0m\n\u001b[0;32m    859\u001b[0m             )\n\u001b[1;32m--> 860\u001b[1;33m         return self._input_request(str(prompt),\n\u001b[0m\u001b[0;32m    861\u001b[0m             \u001b[0mself\u001b[0m\u001b[1;33m.\u001b[0m\u001b[0m_parent_ident\u001b[0m\u001b[1;33m,\u001b[0m\u001b[1;33m\u001b[0m\u001b[1;33m\u001b[0m\u001b[0m\n\u001b[0;32m    862\u001b[0m             \u001b[0mself\u001b[0m\u001b[1;33m.\u001b[0m\u001b[0m_parent_header\u001b[0m\u001b[1;33m,\u001b[0m\u001b[1;33m\u001b[0m\u001b[1;33m\u001b[0m\u001b[0m\n",
      "\u001b[1;32m~\\miniconda3\\lib\\site-packages\\ipykernel\\kernelbase.py\u001b[0m in \u001b[0;36m_input_request\u001b[1;34m(self, prompt, ident, parent, password)\u001b[0m\n\u001b[0;32m    902\u001b[0m             \u001b[1;32mexcept\u001b[0m \u001b[0mKeyboardInterrupt\u001b[0m\u001b[1;33m:\u001b[0m\u001b[1;33m\u001b[0m\u001b[1;33m\u001b[0m\u001b[0m\n\u001b[0;32m    903\u001b[0m                 \u001b[1;31m# re-raise KeyboardInterrupt, to truncate traceback\u001b[0m\u001b[1;33m\u001b[0m\u001b[1;33m\u001b[0m\u001b[1;33m\u001b[0m\u001b[0m\n\u001b[1;32m--> 904\u001b[1;33m                 \u001b[1;32mraise\u001b[0m \u001b[0mKeyboardInterrupt\u001b[0m\u001b[1;33m(\u001b[0m\u001b[1;34m\"Interrupted by user\"\u001b[0m\u001b[1;33m)\u001b[0m \u001b[1;32mfrom\u001b[0m \u001b[1;32mNone\u001b[0m\u001b[1;33m\u001b[0m\u001b[1;33m\u001b[0m\u001b[0m\n\u001b[0m\u001b[0;32m    905\u001b[0m             \u001b[1;32mexcept\u001b[0m \u001b[0mException\u001b[0m \u001b[1;32mas\u001b[0m \u001b[0me\u001b[0m\u001b[1;33m:\u001b[0m\u001b[1;33m\u001b[0m\u001b[1;33m\u001b[0m\u001b[0m\n\u001b[0;32m    906\u001b[0m                 \u001b[0mself\u001b[0m\u001b[1;33m.\u001b[0m\u001b[0mlog\u001b[0m\u001b[1;33m.\u001b[0m\u001b[0mwarning\u001b[0m\u001b[1;33m(\u001b[0m\u001b[1;34m\"Invalid Message:\"\u001b[0m\u001b[1;33m,\u001b[0m \u001b[0mexc_info\u001b[0m\u001b[1;33m=\u001b[0m\u001b[1;32mTrue\u001b[0m\u001b[1;33m)\u001b[0m\u001b[1;33m\u001b[0m\u001b[1;33m\u001b[0m\u001b[0m\n",
      "\u001b[1;31mKeyboardInterrupt\u001b[0m: Interrupted by user"
     ]
    }
   ],
   "source": [
    "#31 - Programa que faça um empréstimo bancârio para compra de uma casa, Que peça o valor da casa, o salário do comprador e quantos anos ele vai pagar:\n",
    "\n",
    "c=float(input(\"\\033[32mQual o valor da casa? \")) \n",
    "s=float(input(\"\\033[32mQual seu salário? \"))  \n",
    "ano=float(input(\"\\033[32mQuantos anos irá pagar? \")) \n",
    "aprovado=s*(30/100) \n",
    "anos = c/ano/12\n",
    "if anos <= aprovado:\n",
    "    print(\"\\033[33m***Aprovado***\\n Valor ideal da parcela R${:.2f}.\".format(anos,))\n",
    "else:\n",
    "    print(\"\\033[34m***Não Aprovado***\")"
   ]
  },
  {
   "cell_type": "code",
   "execution_count": 63,
   "id": "severe-aruba",
   "metadata": {},
   "outputs": [
    {
     "name": "stdout",
     "output_type": "stream",
     "text": [
      "Digite um número inteiro: 155\n",
      "Digite o número correspondente a conversão desejada?\n",
      "1)Binario\n",
      "2)Octal\n",
      "3)Hexadecimal2\n",
      "O número 155, em octal é 0o233\n"
     ]
    }
   ],
   "source": [
    "#32 - Programa de conversor binário, octal, hexadecimal:\n",
    "n=int(input(\"Digite um número inteiro: \"))\n",
    "opcão=int(input(\"Digite o número correspondente a conversão desejada?\\n1)Binario\\n2)Octal\\n3)Hexadecimal\"))\n",
    "if opcão == 1:\n",
    "    print(\"O número {}, em binario é {}\".format(n, bin(n)))\n",
    "elif opcão == 2:\n",
    "    print(\"O número {}, em octal é {}\".format(n,oct(n)))\n",
    "elif opcão == 3:\n",
    "    print(\"O número {}, em hexadecimal é {}\".format(n,hex(n)))\n",
    "    "
   ]
  },
  {
   "cell_type": "code",
   "execution_count": 68,
   "id": "compressed-marks",
   "metadata": {},
   "outputs": [
    {
     "name": "stdout",
     "output_type": "stream",
     "text": [
      "Digite um número: 0\n",
      "Digite outro número: 0\n",
      "O número 0 é igual ao número 0!\n"
     ]
    }
   ],
   "source": [
    "#33 -Programa número maior que: \n",
    "n=int(input(\"Digite um número: \"))\n",
    "n2=int(input(\"Digite outro número: \"))\n",
    "if n > n2:\n",
    "    print(\"O número {} é maior que o número {}!\".format(n,n2))\n",
    "elif n < n2:\n",
    "    print(\"O número {} é maior que o número {}!\".format(n2,n))\n",
    "elif n == n2:\n",
    "    print(\"O número {} é igual ao número {}!\".format(n,n2))"
   ]
  },
  {
   "cell_type": "code",
   "execution_count": 71,
   "id": "loaded-burning",
   "metadata": {},
   "outputs": [
    {
     "name": "stdout",
     "output_type": "stream",
     "text": [
      "Digite seu ano de nascimento: 2003\n",
      "!Está na hora de se alistar!\n"
     ]
    }
   ],
   "source": [
    "#34 - Programa de alistamento militar: \n",
    "from datetime import date\n",
    "ano=int(input(\"Digite seu ano de nascimento: \"))\n",
    "anos=date.today().year\n",
    "if anos - ano <= 17:\n",
    "    a=anos - ano\n",
    "    print(\"Faltam {} anos para seu alistamento!\".format(18-a))\n",
    "    print(\"!Vc ainda vai se alistar!\")\n",
    "if anos - ano == 18:\n",
    "    print(\"!Está na hora de se alistar!\")\n",
    "if anos - ano >= 19:\n",
    "    e=anos-ano\n",
    "    print(\"Ja se passou {} anos do seu alistamento\".format(e-18))\n",
    "    print(\"!Se não se alistou, procure o alistamento!\")"
   ]
  },
  {
   "cell_type": "code",
   "execution_count": 75,
   "id": "center-owner",
   "metadata": {},
   "outputs": [
    {
     "name": "stdout",
     "output_type": "stream",
     "text": [
      "Digite sua primeira nota para cálculo de sua média: 2\n",
      "Digite sua segunda nota para cálculo de sua média: 2\n",
      "!REPROVADO!\n"
     ]
    }
   ],
   "source": [
    "#35 - Programa de média escolar:\n",
    "\n",
    "media1=float(input(\"Digite sua primeira nota para cálculo de sua média: \"))\n",
    "media2=float(input(\"Digite sua segunda nota para cálculo de sua média: \"))\n",
    "mediageral= (media1+media2)/2\n",
    "if mediageral <= 5.0:\n",
    "    print(\"!REPROVADO!\")\n",
    "elif mediageral >= 5.1 and mediageral < 6.9:\n",
    "    print(\"!RECUPERAÇÃO!\")\n",
    "elif mediageral >= 7.0: \n",
    "    print(\"!APROVADO!\")\n"
   ]
  },
  {
   "cell_type": "code",
   "execution_count": 76,
   "id": "opened-manitoba",
   "metadata": {},
   "outputs": [
    {
     "name": "stdout",
     "output_type": "stream",
     "text": [
      "Ano de nascimento do atetla: 2000\n",
      "21 anos.\n",
      "MASTER\n"
     ]
    }
   ],
   "source": [
    "#36 - Programa que defina tipo de categoria do atetla:\n",
    "from datetime import date\n",
    "ano=int(input(\"Ano de nascimento do atetla: \"))\n",
    "anos= date.today().year\n",
    "idade=anos-ano\n",
    "print(\"{} anos.\".format(idade))\n",
    "if idade <= 9:\n",
    "    print(\"MIRIM\")\n",
    "elif idade > 9 and idade <= 14 :\n",
    "    print(\"INFANTIL\")\n",
    "elif idade > 14 and idade <= 19:\n",
    "    print(\"JUNIOR\")\n",
    "elif idade == 20:\n",
    "    print(\"SENIOR\")\n",
    "elif idade > 20:\n",
    "    print(\"MASTER\")"
   ]
  },
  {
   "cell_type": "code",
   "execution_count": 79,
   "id": "correct-captain",
   "metadata": {},
   "outputs": [
    {
     "name": "stdout",
     "output_type": "stream",
     "text": [
      "Vamos formar um triângulo? \n",
      "Digite o valor de cada lado e veja se forma um triângulo:\n",
      " Valor lado 1:25\n",
      "Valor lado 2:25\n",
      "Valor lado 3:35\n",
      "\u001b[32mÉ possível formar um triângulo, com lado a= 25.0, lado b= 25.0 e lado c= 35.0.\n",
      "\u001b[34mTriângulo Isósceles.\n"
     ]
    }
   ],
   "source": [
    "#37 - Programa que se possível formar um triângulo, diga que tipo de triângulo é:\n",
    "\n",
    "a=float(input(\"Vamos formar um triângulo? \\nDigite o valor de cada lado e veja se forma um triângulo:\\n Valor lado 1:\"))\n",
    "b=float(input(\"Valor lado 2:\"))\n",
    "c=float(input(\"Valor lado 3:\"))\n",
    "\n",
    "\n",
    "if a < b + c and b < a + c and c < a + b:\n",
    "    print(\"\\033[32mÉ possível formar um triângulo, com lado a= {}, lado b= {} e lado c= {}.\".format(a,b,c))\n",
    "\n",
    "    if b == c == a == b:\n",
    "        print(\"\\033[34mTriângulo Equilâtero.\")\n",
    "    elif b != c != a != b:\n",
    "        print(\"\\033[34mTriângulo Escaleno.\")\n",
    "    else:\n",
    "        print(\"\\033[34mTriângulo Isósceles.\")\n",
    "else: \n",
    "    print(\"\\033[32mNão é possível formar um triângulo, com os lados a= {}, lado b= {} e lado c= {}.\".format(a,b,c))\n",
    "\n",
    "    "
   ]
  },
  {
   "cell_type": "code",
   "execution_count": 83,
   "id": "solid-institute",
   "metadata": {},
   "outputs": [
    {
     "name": "stdout",
     "output_type": "stream",
     "text": [
      "@-@-@-@-@-@-@-@-@-@-@-@-@-@-@-@-@-@-@-@-@-@-@-@-@-@-@-@-@-@-\n",
      "Í N D I C E       D E       M A S S A       C O R P ô R E A\n",
      "@-@-@-@-@-@-@-@-@-@-@-@-@-@-@-@-@-@-@-@-@-@-@-@-@-@-@-@-@-@-\n",
      "Digite sua altura: 1.76\n",
      "Digite seu peso: 80\n",
      "IMC= 25.83\n",
      "SOBREPESO\n"
     ]
    }
   ],
   "source": [
    "#38 - Programa de Índice de Massa Corpôrea (IMC):\n",
    "print(\"@-\"*30)\n",
    "print(\"Í N D I C E       D E       M A S S A       C O R P ô R E A\")\n",
    "print(\"@-\"*30)\n",
    "al=float(input(\"Digite sua altura: \"))\n",
    "peso=float(input(\"Digite seu peso: \"))\n",
    "imc=peso/(al*al)\n",
    "print(\"IMC= {:.2f}\".format(imc))\n",
    "if imc < 18.5:\n",
    "    print(\"MAGREZA\")\n",
    "elif imc > 18.5 and imc <= 24.9:\n",
    "    print(\"IDEAL\")\n",
    "elif imc > 24.9 and imc <= 30:\n",
    "    print(\"SOBREPESO\")\n",
    "elif imc > 30 and imc <=39:\n",
    "    print(\"OBESIDADE\")\n",
    "elif imc > 40:\n",
    "    print(\"OBESIDADE MORBIDA\")"
   ]
  },
  {
   "cell_type": "code",
   "execution_count": 85,
   "id": "healthy-omega",
   "metadata": {},
   "outputs": [
    {
     "name": "stdout",
     "output_type": "stream",
     "text": [
      "Preço do produto: 48.60\n",
      "Condição de pagamento\n",
      "1) À vista/Cheque\n",
      "2) À vista/no cartão\n",
      "3) 2x no cartão\n",
      "4) 3x ou mais no cartão 2\n",
      "5% de desconto, valor do produto R$ 48.6, valor a pagar R$ 46.17.\n"
     ]
    }
   ],
   "source": [
    "#39 - Programa gerenciador de pagamentos:\n",
    "\n",
    "v=float(input(\"Preço do produto: \"))\n",
    "cond=int(input(\"Condição de pagamento\\n1) À vista/Cheque\\n2) À vista/no cartão\\n3) 2x no cartão\\n4) 3x ou mais no cartão \"))\n",
    "\n",
    "if cond == 1:\n",
    "    print(\"10% de desconto, valor do produto R$ {}, valor a pagar R$ {:.2f}.\".format(v,(-v*(10/100))+v))\n",
    "elif cond == 2:\n",
    "    print(\"5% de desconto, valor do produto R$ {}, valor a pagar R$ {:.2f}.\".format(v,(-v*(5/100))+v))\n",
    "elif cond == 3:\n",
    "    print(\"Até duas vezes no cartão, 2x de R${}, valor do produto R${:.2f}\".format(v/2,v))\n",
    "elif cond == 4:\n",
    "    vezes=int(input(\"Quantas vezes irá parcelar?  \"))\n",
    "    valortotal=(v*(20/100)+v)\n",
    "    print(\"Será parcelado em {}x de R$ {:.1f}.\".format(vezes, valortotal/vezes))\n",
    "    print(\"20% de juros, valor do produto {}, valor a pagar {}.\".format(v, (v*(20/100))+v))\n",
    "    "
   ]
  },
  {
   "cell_type": "code",
   "execution_count": 86,
   "id": "universal-louis",
   "metadata": {},
   "outputs": [
    {
     "name": "stdout",
     "output_type": "stream",
     "text": [
      "Qual sua jogada?\n",
      "0)Pedra\n",
      "1)Papel\n",
      "2)Tesoura0\n",
      "JO\n",
      "KEN\n",
      "PO\n",
      "O computador jogou papel.\n",
      "O jogador jogou pedra.\n",
      "\u001b[33mJogador Perdeu\n"
     ]
    }
   ],
   "source": [
    "#40 - Programa JOKENPO:\n",
    "from random import randint\n",
    "from time import sleep\n",
    "\n",
    "itens= (\"pedra\",\"papel\",\"tesoura\")\n",
    "computador=randint(0,2)\n",
    "jogador=int(input(\"Qual sua jogada?\\n0)Pedra\\n1)Papel\\n2)Tesoura\"))\n",
    "\n",
    "\n",
    "print(\"JO\")\n",
    "sleep(1)\n",
    "print(\"KEN\")\n",
    "sleep(1)\n",
    "print(\"PO\")\n",
    "sleep(1)\n",
    "\n",
    "print(\"O computador jogou {}.\".format(itens[computador]))\n",
    "print(\"O jogador jogou {}.\".format(itens[jogador]))\n",
    "\n",
    "if computador == 0:#Pedra\n",
    "    if jogador == 0:\n",
    "        print(\"\\033[32mEmpate\")\n",
    "    elif jogador == 1:\n",
    "        print(\"\\033[32mJogador Venceu\")\n",
    "    elif jogador == 2:\n",
    "        print(\"\\033[32mJogador Perdeu\")\n",
    "    \n",
    "\n",
    "elif computador == 1:#Papel\n",
    "    if jogador == 0:\n",
    "        print(\"\\033[33mJogador Perdeu\")\n",
    "    elif jogador == 1:\n",
    "        print(\"\\033[33mEmpate\")\n",
    "    elif jogador == 2:\n",
    "        print(\"\\033[33mJogador Venceu\")\n",
    "    \n",
    "    \n",
    "elif computador == 2:#Tesoura\n",
    "    if jogador == 0:\n",
    "        print(\"\\033[34mJogador Venceu\")\n",
    "    elif jogador == 1:\n",
    "        print(\"\\033[34mJogador Perdeu\")\n",
    "    elif jogador == 2:\n",
    "        print(\"\\033[34mEmpate\")\n",
    "        "
   ]
  },
  {
   "cell_type": "code",
   "execution_count": 88,
   "id": "unnecessary-sudan",
   "metadata": {},
   "outputs": [
    {
     "name": "stdout",
     "output_type": "stream",
     "text": [
      "A soma de todos os valores divisíveis por três é 20667. São 83 valores\n"
     ]
    }
   ],
   "source": [
    "#41 - Programa que some todos valores divisíveis por três:\n",
    "soma=0\n",
    "cont=0\n",
    "for a in range (1,501,2):\n",
    "    if a % 3== 0:\n",
    "        soma = soma + a\n",
    "        cont = cont + 1\n",
    "print(\"A soma de todos os valores divisíveis por três é {}. São {} valores\".format(soma, cont))"
   ]
  },
  {
   "cell_type": "code",
   "execution_count": 89,
   "id": "junior-mixture",
   "metadata": {},
   "outputs": [
    {
     "name": "stdout",
     "output_type": "stream",
     "text": [
      "Qual tabuada deseja: 5\n",
      "5 X 1 = 5\n",
      "5 X 2 = 10\n",
      "5 X 3 = 15\n",
      "5 X 4 = 20\n",
      "5 X 5 = 25\n",
      "5 X 6 = 30\n",
      "5 X 7 = 35\n",
      "5 X 8 = 40\n",
      "5 X 9 = 45\n",
      "5 X 10 = 50\n"
     ]
    }
   ],
   "source": [
    "#42 - Programa que retorne a tabuada de qualquer número:\n",
    "s= 0\n",
    "tab=int(input(\"Qual tabuada deseja: \"))\n",
    "for a in range(1,11):\n",
    "    a *= tab\n",
    "    s += 1\n",
    "    print(\"{} X {} = {}\".format(tab,s,a))"
   ]
  },
  {
   "cell_type": "code",
   "execution_count": 90,
   "id": "excellent-appeal",
   "metadata": {},
   "outputs": [
    {
     "name": "stdout",
     "output_type": "stream",
     "text": [
      "Digite 1 número:14\n",
      "Digite 2 número:2\n",
      "Digite 3 número:5\n",
      "Digite 4 número:3\n",
      "Digite 5 número:28\n",
      "Digite 6 número:6\n",
      "Foram 4 somados pares e a soma é: 50\n"
     ]
    }
   ],
   "source": [
    "#43 - Programa que gerencie 6 valores digitados e some os valores pares:\n",
    "soma=0\n",
    "cont=0\n",
    "for c in range (1,7):\n",
    "    num=int(input(\"Digite {} número:\".format(c)))\n",
    "    if num % 2 == 0:\n",
    "        soma += num\n",
    "        cont += 1\n",
    "print(\"Foram {} somados pares e a soma é: {}\".format(cont,soma))\n",
    "    "
   ]
  },
  {
   "cell_type": "code",
   "execution_count": 96,
   "id": "simplified-mailing",
   "metadata": {},
   "outputs": [
    {
     "name": "stdout",
     "output_type": "stream",
     "text": [
      "Digite um número inteiro: 7\n",
      "\u001b[31m 1 \u001b[32m 2 \u001b[32m 3 \u001b[32m 4 \u001b[32m 5 \u001b[32m 6 \u001b[31m 7 \n",
      "\u001b[mO número 7 foi divisível 2 vezes.\n",
      "7 É um número PRIMO\n"
     ]
    }
   ],
   "source": [
    "#44 - Programa que retorne se o número digitado é primo ou não:\n",
    "tot=0\n",
    "a=int(input(\"Digite um número inteiro: \"))\n",
    "for i in range(1,a+1):\n",
    "    if a % i == 0:\n",
    "        print('\\033[31m', end ='')\n",
    "        tot+=1\n",
    "    else:\n",
    "        print('\\033[32m', end ='')\n",
    "    print(' {} '.format(i), end ='')\n",
    "print(\"\\n\\033[mO número {} foi divisível {} vezes.\".format(a,tot))\n",
    "if tot > 2:\n",
    "    print(\"{} Não é um número PRIMO!\".format(a))\n",
    "else:\n",
    "    print(\"{} É um número PRIMO\".format(a))"
   ]
  },
  {
   "cell_type": "code",
   "execution_count": 100,
   "id": "demonstrated-stand",
   "metadata": {},
   "outputs": [
    {
     "name": "stdout",
     "output_type": "stream",
     "text": [
      "Digite: ana\n",
      "\u001b[32mANA é igual a ANA\n",
      "\u001b[34mANA é um palíndromo.\n"
     ]
    }
   ],
   "source": [
    "#45 - Programa que verifique se a palavra digitada é um palíndromo:\n",
    "palavra=str(input(\"Digite: \")).strip().upper()\n",
    "separado=palavra.split()\n",
    "junto= ''.join(separado)\n",
    "inverso = ''\n",
    "for i in range (len(junto)-1,-1,-1):\n",
    "    inverso+=junto[i]\n",
    "if inverso == junto:\n",
    "    print(\"\\033[32m{} é igual a {}\\n\\033[34m{} é um palíndromo.\".format(inverso,junto,junto))\n",
    "else:\n",
    "    print(\"\\033[32m{} não é igual {}\\n\\033[31m{} não é um palíndromo\".format(inverso,junto,junto))"
   ]
  },
  {
   "cell_type": "code",
   "execution_count": 102,
   "id": "environmental-tourism",
   "metadata": {},
   "outputs": [
    {
     "name": "stdout",
     "output_type": "stream",
     "text": [
      "Em que ano a 1º pessoa nasceu: 200\n",
      "Em que ano a 2º pessoa nasceu: 1998\n",
      "Em que ano a 3º pessoa nasceu: 1997\n",
      "Em que ano a 4º pessoa nasceu: 2001\n",
      "Em que ano a 5º pessoa nasceu: 1987\n",
      "Em que ano a 6º pessoa nasceu: 2008\n",
      "Ao todo tivemos 1 pessoas menores de idade\n",
      "Ao todo tivemos 5 pessoas maiores de idade\n"
     ]
    }
   ],
   "source": [
    "#46 - Programa gerenciador de maior idade:\n",
    "from datetime import date\n",
    "anos= date.today().year\n",
    "pessmaior=0\n",
    "pessmenor=0\n",
    "\n",
    "for i in range (1,7):\n",
    "    ano=int(input(\"Em que ano a {}º pessoa nasceu: \".format(i)))\n",
    "    idade=anos-ano\n",
    "    if idade < 18:\n",
    "        pessmaior+=1\n",
    "    else:\n",
    "        pessmenor+=1\n",
    "print(\"Ao todo tivemos {} pessoas menores de idade\".format(pessmaior))\n",
    "print(\"Ao todo tivemos {} pessoas maiores de idade\".format(pessmenor))\n",
    "\n",
    "\n"
   ]
  },
  {
   "cell_type": "code",
   "execution_count": 103,
   "id": "instructional-rehabilitation",
   "metadata": {},
   "outputs": [
    {
     "name": "stdout",
     "output_type": "stream",
     "text": [
      "Qual o peso da 1º pessoa: 40\n",
      "Qual o peso da 2º pessoa: 85\n",
      "Qual o peso da 3º pessoa: 95\n",
      "Qual o peso da 4º pessoa: 78\n",
      "Qual o peso da 5º pessoa: 80\n",
      "Qual o peso da 6º pessoa: 83\n",
      "O maior peso lido foi \u001b[32m95.0\n",
      "\u001b[mO menor peso lido foi \u001b[31m40.0\n"
     ]
    }
   ],
   "source": [
    "#47 - Programa que compare pesos digitados:\n",
    "maior=0\n",
    "menor=0\n",
    "\n",
    "\n",
    "for i in range(1,7):\n",
    "    a=float(input(\"Qual o peso da {}º pessoa: \".format(i)))\n",
    "\n",
    "    if i == 1:\n",
    "        maior = a\n",
    "        menor = a\n",
    "\n",
    "    else:\n",
    "        if a > maior:\n",
    "            maior = a\n",
    "        if a < menor:\n",
    "            menor = a\n",
    "print(\"O maior peso lido foi \\033[32m{}\".format(maior))\n",
    "print(\"\\033[mO menor peso lido foi \\033[31m{}\".format(menor))\n",
    "    \n",
    "    "
   ]
  },
  {
   "cell_type": "code",
   "execution_count": 104,
   "id": "challenging-semester",
   "metadata": {},
   "outputs": [
    {
     "name": "stdout",
     "output_type": "stream",
     "text": [
      "1ºPessoa\n",
      "Nome: Jessica\n",
      "Idade: 18\n",
      "Sexo M|F: f\n",
      "2ºPessoa\n",
      "Nome: lara\n",
      "Idade: 17\n",
      "Sexo M|F: f\n",
      "3ºPessoa\n",
      "Nome: Vitor\n",
      "Idade: 20\n",
      "Sexo M|F: m\n",
      "4ºPessoa\n",
      "Nome: Juan\n",
      "Idade: 27\n",
      "Sexo M|F: m\n",
      "A média de idade do grupo é de 20.5.\n",
      "O homem mais velho se chama Juan e sua idade é 27.\n",
      "São 2 mulheres com menos de 20 anos.\n"
     ]
    }
   ],
   "source": [
    "#48 - Programa que gerencie a média de idade do grupo, o nome do homem mais velho e mulheres com menos de 20 anos:\n",
    "somaidade=0\n",
    "maioridadehomem=0\n",
    "homemaisvelho=''\n",
    "totmulher = 0\n",
    "a=5\n",
    "for i in range(1,a):    \n",
    "    nome=str(input(\"{}ºPessoa\\nNome: \".format(i)))\n",
    "    idade=int(input(\"Idade: \"))\n",
    "    sexo=str(input(\"Sexo M|F: \"))\n",
    "    somaidade+=idade\n",
    "    if i == 1 and sexo in 'Mm':\n",
    "        maioridadehomem=idade\n",
    "        homemaisvelho=nome\n",
    "    if sexo in 'Mm' and idade > maioridadehomem:\n",
    "        maioridadehomem=idade\n",
    "        homemaisvelho=nome\n",
    "    if sexo in 'Ff' and idade < 20:\n",
    "        totmulher +=1\n",
    "        \n",
    "print(\"A média de idade do grupo é de {}.\".format(somaidade/(a-1)))\n",
    "print(\"O homem mais velho se chama {} e sua idade é {}.\".format(homemaisvelho,maioridadehomem))\n",
    "print(\"São {} mulheres com menos de 20 anos.\".format(totmulher))"
   ]
  },
  {
   "cell_type": "code",
   "execution_count": 105,
   "id": "heard-median",
   "metadata": {},
   "outputs": [
    {
     "name": "stdout",
     "output_type": "stream",
     "text": [
      "Sexo M|F:t\n",
      "Digite novamente: Sexo M|F: t\n",
      "Digite novamente: Sexo M|F: t\n",
      "Digite novamente: Sexo M|F: p\n",
      "Digite novamente: Sexo M|F: m\n",
      "Sexo M registrado com sucesso.\n"
     ]
    }
   ],
   "source": [
    "#49 - Programa que registre o sexo de uma pessoa e insista até que seja digitado M|F:\n",
    "sexo=str(input(\"Sexo M|F:\")).strip().upper()[0]\n",
    "while sexo not in 'MF':\n",
    "    sexo= str(input(\"Digite novamente: Sexo M|F: \")).strip().upper()[0]\n",
    "print(\"Sexo {} registrado com sucesso.\".format(sexo))\n"
   ]
  },
  {
   "cell_type": "code",
   "execution_count": 106,
   "id": "continental-player",
   "metadata": {},
   "outputs": [
    {
     "name": "stdout",
     "output_type": "stream",
     "text": [
      "Que número estou pensando? 4\n",
      "\u001b[34mProcessando...\n",
      "Mais...\n",
      "Que número estou pensando? 7\n",
      "\u001b[34mProcessando...\n",
      "Mais...\n",
      "Que número estou pensando? 8\n",
      "\u001b[34mProcessando...\n",
      "Mais...\n",
      "Que número estou pensando? 9\n",
      "\u001b[34mProcessando...\n",
      "Você acertou depois de 4 tentativas, pensei no número 9\n"
     ]
    }
   ],
   "source": [
    "#50 - Programa que randomize um número de 0 a 9 e o usuário deve tentar acertar o número:\n",
    "from random import randint\n",
    "from time import sleep\n",
    "computador= randint(0,10)\n",
    "repetir=0\n",
    "acertou= False\n",
    "while not acertou:\n",
    "    jogador=int(input(\"\\033[35mQue número estou pensando? \"))\n",
    "    repetir+=1\n",
    "    print(\"\\033[34mProcessando...\")\n",
    "    sleep(2)\n",
    "    if jogador == computador:\n",
    "        acertou = True\n",
    "    else: \n",
    "        if jogador < computador:\n",
    "            print(\"Mais...\")\n",
    "        elif jogador > computador:\n",
    "            print(\"Menos\")\n",
    "print(\"Você acertou depois de {} tentativas, pensei no número {}\".format(repetir,computador))\n"
   ]
  },
  {
   "cell_type": "code",
   "execution_count": 107,
   "id": "excessive-pepper",
   "metadata": {},
   "outputs": [
    {
     "name": "stdout",
     "output_type": "stream",
     "text": [
      "Digite um valor: 9\n",
      "Digite um segundo valor: 7\n",
      "O que deseja: \n",
      "1) Somar\n",
      "2) Multiplicar\n",
      "3) Maior\n",
      "4) Novos números\n",
      "5) Sair do programa1\n",
      "A soma dos valores resulta em 16.0.\n",
      "O que deseja: \n",
      "1) Somar\n",
      "2) Multiplicar\n",
      "3) Maior\n",
      "4) Novos números\n",
      "5) Sair do programa2\n",
      "A multiplicação dos valores resulta em 63.0.\n",
      "O que deseja: \n",
      "1) Somar\n",
      "2) Multiplicar\n",
      "3) Maior\n",
      "4) Novos números\n",
      "5) Sair do programa3\n",
      "O valor 9.0 é maior que 7.0.\n",
      "O que deseja: \n",
      "1) Somar\n",
      "2) Multiplicar\n",
      "3) Maior\n",
      "4) Novos números\n",
      "5) Sair do programa5\n",
      "Finalizando...\n",
      "Fim do programa, volte sempre!\n"
     ]
    }
   ],
   "source": [
    "#51 - Programa que seja possível somar, multiplicar e ver o maior entre dois números:\n",
    "from time import sleep\n",
    "n1=float(input(\"Digite um valor: \"))\n",
    "n2=float(input(\"Digite um segundo valor: \"))\n",
    "saber = 0\n",
    "while  saber != 5:\n",
    "    saber=int(input(\"O que deseja: \\n1) Somar\\n2) Multiplicar\\n3) Maior\\n4) Novos números\\n5) Sair do programa\"))\n",
    "    if saber == 1:\n",
    "        print(\"A soma dos valores resulta em {}.\".format(n1+n2))\n",
    "    elif saber == 2:\n",
    "        print(\"A multiplicação dos valores resulta em {}.\".format(n1*n2))\n",
    "    elif saber == 3:\n",
    "        if n1 > n2:\n",
    "            print(\"O valor {} é maior que {}.\".format(n1,n2))\n",
    "        else:\n",
    "            print(\"O valor {} é maior que {}.\".format(n2,n1))\n",
    "    elif saber == 4:\n",
    "        n1=float(input(\"Digite um novo valor: \"))\n",
    "        n2=float(input(\"Digite um segundo novo valor: \"))\n",
    "    elif saber == 5:  \n",
    "        print(\"Finalizando...\")\n",
    "        sleep(2)\n",
    "    else:\n",
    "        print(\"Opção inválida, digite novamente!!\")\n",
    "print(\"Fim do programa, volte sempre!\")\n",
    "    \n",
    "        "
   ]
  },
  {
   "cell_type": "code",
   "execution_count": 110,
   "id": "constant-interference",
   "metadata": {},
   "outputs": [
    {
     "name": "stdout",
     "output_type": "stream",
     "text": [
      "Digite um número para calcular seu fatorial: 500\n",
      "O fatorial de 500 é 1220136825991110068701238785423046926253574342803192842192413588385845373153881997605496447502203281863013616477148203584163378722078177200480785205159329285477907571939330603772960859086270429174547882424912726344305670173270769461062802310452644218878789465754777149863494367781037644274033827365397471386477878495438489595537537990423241061271326984327745715546309977202781014561081188373709531016356324432987029563896628911658974769572087926928871281780070265174507768410719624390394322536422605234945850129918571501248706961568141625359056693423813008856249246891564126775654481886506593847951775360894005745238940335798476363944905313062323749066445048824665075946735862074637925184200459369692981022263971952597190945217823331756934581508552332820762820023402626907898342451712006207714640979456116127629145951237229913340169552363850942885592018727433795173014586357570828355780158735432768888680120399882384702151467605445407663535984174430480128938313896881639487469658817504506926365338175055478128640000000000000000000000000000000000000000000000000000000000000000000000000000000000000000000000000000000000000000000000000000\n"
     ]
    }
   ],
   "source": [
    "#52 - Programa que calcule fatorial de um número:\n",
    "from math import factorial\n",
    "n= int(input(\"Digite um número para calcular seu fatorial: \"))\n",
    "f=factorial(n)\n",
    "print(\"O fatorial de {} é {}\".format(n,f))"
   ]
  },
  {
   "cell_type": "code",
   "execution_count": 112,
   "id": "suspected-samba",
   "metadata": {},
   "outputs": [
    {
     "name": "stdout",
     "output_type": "stream",
     "text": [
      "Gerador de PA\n",
      "Primeiro termo: 10\n",
      "Digite a razão: 10\n",
      "10 ->  20 ->  30 ->  40 ->  50 ->  60 ->  70 ->  80 ->  90 ->  100 ->  Fim\n"
     ]
    }
   ],
   "source": [
    "#53 - Programa de Progressão Aritmética(PA):\n",
    "print(\"Gerador de PA\")\n",
    "primeiro=int(input(\"Primeiro termo: \"))\n",
    "razao= int(input(\"Digite a razão: \"))\n",
    "cont=1\n",
    "termo=primeiro\n",
    "while cont <= 10:\n",
    "    print('{} -> '.format(termo), end=' ')\n",
    "    termo+= razao\n",
    "    cont+=1\n",
    "print(\"Fim\")"
   ]
  },
  {
   "cell_type": "code",
   "execution_count": 124,
   "id": "informative-crash",
   "metadata": {},
   "outputs": [
    {
     "name": "stdout",
     "output_type": "stream",
     "text": [
      "Sequência de Fibonacci\n",
      "Quantos termos você quer mostrar? 11\n",
      "0 -> 1 -> 1 -> 2 -> 3 -> 5 -> 8 -> 13 -> 21 -> 34 -> 55  Fim\n"
     ]
    }
   ],
   "source": [
    "#54 - Programa sequência de Fibonacci:\n",
    "\n",
    "# 0 -> 1 -> 1 -> 2 -> 3 -> 5 -> 8 \n",
    "    # t1 + t2 = t3\n",
    "print(\"Sequência de Fibonacci\")\n",
    "n=int(input(\"Quantos termos você quer mostrar? \"))\n",
    "t1=0\n",
    "t2=1\n",
    "print('{} -> {}'.format(t1,t2), end='')\n",
    "cont=3\n",
    "while cont <= n:\n",
    "    t3 = t1 + t2\n",
    "    print(' -> {}'.format(t3), end='')\n",
    "    t1=t2\n",
    "    t2=t3\n",
    "    cont+=1\n",
    "print('  Fim')\n"
   ]
  },
  {
   "cell_type": "code",
   "execution_count": 125,
   "id": "cooperative-walter",
   "metadata": {},
   "outputs": [
    {
     "name": "stdout",
     "output_type": "stream",
     "text": [
      "Digite um número inteiro e, quando não quiser digitar mais, digite 999: 1\n",
      "Digite um número inteiro e, quando não quiser digitar mais, digite 999: 2\n",
      "Digite um número inteiro e, quando não quiser digitar mais, digite 999: 3\n",
      "Digite um número inteiro e, quando não quiser digitar mais, digite 999: 4\n",
      "Digite um número inteiro e, quando não quiser digitar mais, digite 999: 7\n",
      "Digite um número inteiro e, quando não quiser digitar mais, digite 999: 8\n",
      "Digite um número inteiro e, quando não quiser digitar mais, digite 999: 9\n",
      "Digite um número inteiro e, quando não quiser digitar mais, digite 999: 4\n",
      "Digite um número inteiro e, quando não quiser digitar mais, digite 999: 5\n",
      "Digite um número inteiro e, quando não quiser digitar mais, digite 999: 6\n",
      "Digite um número inteiro e, quando não quiser digitar mais, digite 999: 999\n",
      "Você digitou 10 vezes e a soma de todos é 49.\n"
     ]
    }
   ],
   "source": [
    "#55 - Programa que some valores digitados, e pare de pedir valores quando for digitado \"999\":\n",
    "q=0\n",
    "total=0\n",
    "n=0\n",
    "n=int(input(\"Digite um número inteiro e, quando não quiser digitar mais, digite 999: \"))\n",
    "while n != 999:\n",
    "    total+=n\n",
    "    q+=1\n",
    "    n=int(input(\"Digite um número inteiro e, quando não quiser digitar mais, digite 999: \"))\n",
    "print(\"Você digitou {} vezes e a soma de todos é {}.\".format(q,total))\n",
    "\n"
   ]
  },
  {
   "cell_type": "code",
   "execution_count": 126,
   "id": "incorporate-miracle",
   "metadata": {},
   "outputs": [
    {
     "name": "stdout",
     "output_type": "stream",
     "text": [
      "Digite um número: 4\n",
      "Quer continuar? 1) Sim 2)Não1\n",
      "Digite um número: 5\n",
      "Quer continuar? 1) Sim 2)Não1\n",
      "Digite um número: 7\n",
      "Quer continuar? 1) Sim 2)Não1\n",
      "Digite um número: 9\n",
      "Quer continuar? 1) Sim 2)Não2\n",
      "A média é 6.25, o maior é 9 e o menor é 4.\n"
     ]
    }
   ],
   "source": [
    "#56 - Programa de média aritmética com varios valores e que retorne o menor e maior valor digitado:\n",
    "c=0\n",
    "q=0\n",
    "a=0\n",
    "maior=0\n",
    "menor=0\n",
    "while a != 2:\n",
    "    n=int(input(\"Digite um número: \"))\n",
    "    c+=n\n",
    "    q+=1\n",
    "    a=int(input(\"Quer continuar? 1) Sim 2)Não\"))\n",
    "    \n",
    "    if q == 1:\n",
    "        maior = menor = n\n",
    "    else:\n",
    "        if n > maior:\n",
    "            maior = n\n",
    "        if n < menor:\n",
    "            menor = n\n",
    "print(\"A média é {}, o maior é {} e o menor é {}.\".format(c/q,maior,menor))"
   ]
  },
  {
   "cell_type": "code",
   "execution_count": 127,
   "id": "first-cartridge",
   "metadata": {},
   "outputs": [
    {
     "name": "stdout",
     "output_type": "stream",
     "text": [
      "Quer ver a tabuada de qual valor: 2\n",
      "2 X 1 = 2\n",
      "2 X 2 = 4\n",
      "2 X 3 = 6\n",
      "2 X 4 = 8\n",
      "2 X 5 = 10\n",
      "2 X 6 = 12\n",
      "2 X 7 = 14\n",
      "2 X 8 = 16\n",
      "2 X 9 = 18\n",
      "2 X 10 = 20\n",
      "Quer ver a tabuada de qual valor: 3\n",
      "3 X 1 = 3\n",
      "3 X 2 = 6\n",
      "3 X 3 = 9\n",
      "3 X 4 = 12\n",
      "3 X 5 = 15\n",
      "3 X 6 = 18\n",
      "3 X 7 = 21\n",
      "3 X 8 = 24\n",
      "3 X 9 = 27\n",
      "3 X 10 = 30\n",
      "Quer ver a tabuada de qual valor: -1\n",
      "Fim do aplicativo\n"
     ]
    }
   ],
   "source": [
    "#57 - Programa que gera tabuada, mas que pare quando o número digitado for negativo.\n",
    "while (True):\n",
    "    tab=int(input(\"Quer ver a tabuada de qual valor: \"))\n",
    "    if tab < 0:\n",
    "            break\n",
    "    cont=0\n",
    "    for i in range(1,11):\n",
    "        i*=tab\n",
    "        cont+=1\n",
    "        print(f\"{tab} X {cont} = {i}\")\n",
    "        \n",
    "print(\"Fim do aplicativo\")"
   ]
  },
  {
   "cell_type": "code",
   "execution_count": 128,
   "id": "apart-technology",
   "metadata": {},
   "outputs": [
    {
     "name": "stdout",
     "output_type": "stream",
     "text": [
      "Digite um número: 4\n",
      "PAR ou ÍMPAR? PAR\n",
      "Jogador ganhou!\n",
      "Digite um número: 5\n",
      "PAR ou ÍMPAR? impar\n",
      "Jogador ganhou!\n",
      "Digite um número: 6\n",
      "PAR ou ÍMPAR? par\n",
      "Jogador perdeu!\n",
      "O jogador ganhou 2 vezes.\n"
     ]
    }
   ],
   "source": [
    "#58 - Programa que jogue ÍMPAR ou PAR:\n",
    "from random import randint\n",
    "v=0\n",
    "while True:\n",
    "    jogador=int(input(\"Digite um número: \"))\n",
    "    computador=randint(0,10)\n",
    "    valor=computador+jogador\n",
    "    ejogador=' '\n",
    "    while ejogador not in 'PI':\n",
    "        ejogador=str(input(\"PAR ou ÍMPAR? \")).upper().strip()[0]\n",
    "    if ejogador== 'P':\n",
    "        if valor %2==0:\n",
    "            print(\"Jogador ganhou!\")\n",
    "            v+=1\n",
    "        else:\n",
    "            print(\"Jogador perdeu!\")\n",
    "            break\n",
    "    if ejogador == 'I':\n",
    "        if valor %2 == 1:\n",
    "            print(\"Jogador ganhou!\")\n",
    "            v+=1\n",
    "        else:\n",
    "            print(\"Jogador perdeu!\")\n",
    "            break\n",
    "print(f\"O jogador ganhou {v} vezes.\")\n"
   ]
  },
  {
   "cell_type": "code",
   "execution_count": 130,
   "id": "cosmetic-nature",
   "metadata": {},
   "outputs": [
    {
     "name": "stdout",
     "output_type": "stream",
     "text": [
      "Digite a idade: 28\n",
      "Sexo M|F: f\n",
      "Quer continuar S|N: n\n",
      "Fim do programa, \u001b[32m1 pessoas maiores de 18\u001b[m,\u001b[31m 0 são homens\u001b[m e \u001b[33m 0 mulheres tem menos de 20 anos.\n"
     ]
    }
   ],
   "source": [
    "#59 - Programa que gerencie a idade do grupo, quantos são homens e quantas são mulheres:\n",
    "contidade=0\n",
    "masculino=0\n",
    "mulher20=0\n",
    "while (True):\n",
    "    idade=int(input(\"Digite a idade: \"))\n",
    "    sexo=' '\n",
    "    continua=' '\n",
    "    while sexo not in 'MF':\n",
    "        sexo=str(input(\"Sexo M|F: \")).strip().upper()[0]\n",
    "    \n",
    "    while continua not in 'SN':\n",
    "        continua=str(input(\"Quer continuar S|N: \")).strip().upper()[0]\n",
    "    if idade >= 18: \n",
    "        contidade+=1\n",
    "    if sexo == 'M':\n",
    "        masculino+=1\n",
    "    if sexo == 'F' and idade <=20:\n",
    "        mulher20+=1\n",
    "    \n",
    "    if continua == 'N':\n",
    "        break\n",
    "    \n",
    "    \n",
    "print(f\"Fim do programa, \\033[32m{contidade} pessoas maiores de 18\\033[m,\\033[31m {masculino} são homens\\033[m e \\033[33m {mulher20} mulheres tem menos de 20 anos.\")"
   ]
  },
  {
   "cell_type": "code",
   "execution_count": 131,
   "id": "higher-batch",
   "metadata": {},
   "outputs": [
    {
     "name": "stdout",
     "output_type": "stream",
     "text": [
      "Nome do produto: pasta de dentes \n",
      "Preço do produto: 1.25\n",
      "Quer continuar? S|N : s\n",
      "Nome do produto: carro \n",
      "Preço do produto: 55000\n",
      "Quer continuar? S|N : s\n",
      "Nome do produto: bala\n",
      "Preço do produto: 50.00\n",
      "Quer continuar? S|N : n\n",
      "O total gasto foi R$55051.25 e teve 1 produto(s) maiores ou iguais a R$1.000,00\n",
      "O produto mais barato é pasta de dentes  e custou R$1.25\n"
     ]
    }
   ],
   "source": [
    "#60 - Programa que retorne o total gasto em produtos, quantidade de produtos acima de R$ 1000.00 e o produto mais barato:\n",
    "total=0\n",
    "maismil=0\n",
    "maisbarato=0\n",
    "cont=0\n",
    "produtomenos=' '\n",
    "while (True):\n",
    "    nome=str(input(\"Nome do produto: \"))\n",
    "    preço=float(input(\"Preço do produto: \"))\n",
    "    cont+=1\n",
    "    continua=' '\n",
    "    while continua not in 'SN':\n",
    "        continua=str(input(\"Quer continuar? S|N : \")).upper().strip()[0]\n",
    "    \n",
    "    total+=preço\n",
    "    if preço >= 1000:\n",
    "        maismil+=1\n",
    "    \n",
    "    if cont ==1:\n",
    "        maisbarato=preço\n",
    "        produtomenos=nome\n",
    "    else:\n",
    "        if preço < maisbarato:\n",
    "            maisbarato=preço\n",
    "            produtomenos=nome\n",
    "   \n",
    "    if continua == 'N' or continua == 'n':\n",
    "        break\n",
    "print(\"O total gasto foi R${} e teve {} produto(s) maiores ou iguais a R$1.000,00\".format(total,maismil))\n",
    "print(f\"O produto mais barato é {produtomenos} e custou R${maisbarato}\")\n"
   ]
  },
  {
   "cell_type": "code",
   "execution_count": 140,
   "id": "fresh-cleveland",
   "metadata": {},
   "outputs": [
    {
     "name": "stdout",
     "output_type": "stream",
     "text": [
      "==============================\n",
      "         Banco Vital          \n",
      "==============================\n",
      "Quanto deseja sacar: 10\n",
      "Total 4 cédulas de R$50\n"
     ]
    }
   ],
   "source": [
    "#61 - Programa caixa eletrônico:\n",
    "print('='*30)\n",
    "print(\"{:^30}\".format('Banco Vital'))\n",
    "print('='*30)\n",
    "total=valor\n",
    "ced=50\n",
    "totalced=0\n",
    "valor=int(input(\"Quanto deseja sacar: \"))\n",
    "while True:\n",
    "    if total >=ced:\n",
    "        total-=ced\n",
    "        totalced+=1\n",
    "    else: \n",
    "        if totalced > 0:\n",
    "            print(f\"Total {totalced} cédulas de R${ced}\")\n",
    "        if ced == 50:\n",
    "            ced=20\n",
    "        elif ced == 20:\n",
    "            ced =10\n",
    "        elif ced == 10:\n",
    "            ced= 1\n",
    "        totalced=0\n",
    "        if total == 0:\n",
    "            break"
   ]
  },
  {
   "cell_type": "code",
   "execution_count": 614,
   "id": "classified-staff",
   "metadata": {},
   "outputs": [
    {
     "name": "stdout",
     "output_type": "stream",
     "text": [
      "\u001b[32mEu vou comer\u001b[31m      Hamburguer     \n",
      "\u001b[32mEu vou comer\u001b[31m         Suco        \n",
      "\u001b[32mEu vou comer\u001b[31m        Pizza        \n",
      "\u001b[32mEu vou comer\u001b[31m        Pudim        \n",
      "      \u001b[33mComi muito!!!      \n"
     ]
    }
   ],
   "source": [
    "# Trabalhando com tuplas:\n",
    "#tuplas review \n",
    "#tupla =  ()\n",
    "#lista = []\n",
    "#diccionario = {}\n",
    "lanche = ('Hamburguer','Suco','Pizza','Pudim')\n",
    "for comida in lanche:\n",
    "    print(f\"\\033[32mEu vou comer\\033[31m {comida:^20}\")\n",
    "print(\"{:^30}\".format('\\033[33mComi muito!!!'))"
   ]
  },
  {
   "cell_type": "code",
   "execution_count": 621,
   "id": "coupled-nebraska",
   "metadata": {},
   "outputs": [
    {
     "name": "stdout",
     "output_type": "stream",
     "text": [
      "Eu vou comer um Hamburguer\n",
      "Eu vou comer um Suco\n",
      "Eu vou comer um Pizza\n",
      "Eu vou comer um Pudim\n",
      "Eu vou comer um Macarrão\n",
      "Comi pra caramba!\n"
     ]
    }
   ],
   "source": [
    "#62 - Programa comendo lanche, trabalhando com tuplas:\n",
    "lanche= ('Hamburguer','Suco','Pizza','Pudim','Macarrão')\n",
    "for cont in range(0, len(lanche)):\n",
    "    print(f'Eu vou comer um {lanche[cont]}')\n",
    "print(\"Comi pra caramba!\")\n",
    "    "
   ]
  },
  {
   "cell_type": "code",
   "execution_count": 622,
   "id": "communist-colonial",
   "metadata": {},
   "outputs": [
    {
     "name": "stdout",
     "output_type": "stream",
     "text": [
      "Vou comer Hamburguer na 0.\n",
      "Vou comer Suco na 1.\n",
      "Vou comer Pizza na 2.\n",
      "Vou comer Pudim na 3.\n"
     ]
    }
   ],
   "source": [
    "#63 - Programa comendo lanche, trabalhando com tuplas e enumerate.\n",
    "lanche = ('Hamburguer','Suco','Pizza','Pudim')\n",
    "for pos,comida in enumerate(lanche):\n",
    "    print(f'Vou comer {comida} na {pos}.')"
   ]
  },
  {
   "cell_type": "code",
   "execution_count": 632,
   "id": "buried-vector",
   "metadata": {},
   "outputs": [
    {
     "name": "stdout",
     "output_type": "stream",
     "text": [
      "['Hamburguer', 'Pizza', 'Pudim', 'Suco']\n",
      "(2, 4, 6, 8, 3, 6, 9, 12)\n"
     ]
    }
   ],
   "source": [
    "#64 - Programa utilizando sorted (organiza uma tupla por ordem)\n",
    "lanche= 'Hamburguer', 'Suco', 'Pizza', 'Pudim'\n",
    "print()\n",
    "a=(2,4,6,8)\n",
    "b=(3,6,9,12)\n",
    "c=a+b\n",
    "print(c)"
   ]
  },
  {
   "cell_type": "code",
   "execution_count": 633,
   "id": "synthetic-observation",
   "metadata": {},
   "outputs": [
    {
     "name": "stdout",
     "output_type": "stream",
     "text": [
      "(2, 4, 6, 8, 3, 6, 9, 12)\n",
      "0\n"
     ]
    }
   ],
   "source": [
    "#65 - Programa utilizando .index() busca um número dentro da tupla.\n",
    "a=(2,4,6,8)\n",
    "b=(3,6,9,12)\n",
    "c=a+b\n",
    "print(c)\n",
    "print(c.index(2))"
   ]
  },
  {
   "cell_type": "code",
   "execution_count": 143,
   "id": "impaired-concrete",
   "metadata": {},
   "outputs": [
    {
     "name": "stdout",
     "output_type": "stream",
     "text": [
      "Digite um número: 2\n",
      "O número digitado foi Dois\n",
      "Quer continuar?n\n",
      "Obrigado por utilizar o programa\n"
     ]
    }
   ],
   "source": [
    "#66 - Programa que retorna o valor digitado por extenso:\n",
    "extenso='Zero','Um','Dois','Três','Quatro','Cinco','Seis','Sete','Oito','Nove','Dez','Onze','Doze','Treze','Catorze','Quinze','Dezesseis','Dezessete','Dezoito','Dezenove','Vinte'\n",
    "continua=' '\n",
    "while True:\n",
    "    n=int(input(\"Digite um número: \"))\n",
    "    if n >=0 and n <=20:\n",
    "        break\n",
    "print(f'O número digitado foi {extenso[n]}')\n",
    "\n",
    "while continua not in 'SN':\n",
    "    continua=str(input(\"Quer continuar?\")).strip().upper()[0]    \n",
    "    if continua == 'N':\n",
    "        break\n",
    "    while True:\n",
    "        n=int(input(\"Digite um número: \"))\n",
    "        if n >=0 and n <=20:\n",
    "            break\n",
    "    print(f'O número digitado foi {extenso[n]}')\n",
    "    \n",
    "print(\"Obrigado por utilizar o programa\")"
   ]
  },
  {
   "cell_type": "code",
   "execution_count": 727,
   "id": "streaming-finance",
   "metadata": {},
   "outputs": [
    {
     "name": "stdout",
     "output_type": "stream",
     "text": [
      "-Cinco Primeiros Colocados: ('Palmeiras', 'Flamengo', 'Internacional', 'Grêmio', 'São Paulo')\n",
      "-=-=-=-=-=-=-=-=-=-=-=-=-=-=-=-=-=-=-=-=-=-=-=-=-=-=-=-=-=-=-=-=-=-=-=-=-=-=-=-=-=-=-=-=-=-=-=-=-=-=-=-=-=-=-=-=-=-=-=-=\n",
      "-Ultimos Quatro Colocados: ('Sport', 'América-MG', 'Vitória', 'Paraná')\n",
      "-=-=-=-=-=-=-=-=-=-=-=-=-=-=-=-=-=-=-=-=-=-=-=-=-=-=-=-=-=-=-=-=-=-=-=-=-=-=-=-=-=-=-=-=-=-=-=-=-=-=-=-=-=-=-=-=-=-=-=-=\n",
      "-Times em Ordem Alfabetica: ['América-MG', 'Athletico-PR', 'Atlético-MG', 'Bahia', 'Botafogo', 'Ceará', 'Chapecoense', 'Corinthians', 'Cruzeiro', 'Flamengo', 'Fluminense', 'Grêmio', 'Internacional', 'Palmeiras', 'Paraná', 'Santos', 'Sport', 'São Paulo', 'Vasco', 'Vitória']\n",
      "-=-=-=-=-=-=-=-=-=-=-=-=-=-=-=-=-=-=-=-=-=-=-=-=-=-=-=-=-=-=-=-=-=-=-=-=-=-=-=-=-=-=-=-=-=-=-=-=-=-=-=-=-=-=-=-=-=-=-=-=\n",
      "-Chapecoence está em 14º colocado.\n",
      "-=-=-=-=-=-=-=-=-=-=-=-=-=-=-=-=-=-=-=-=-=-=-=-=-=-=-=-=-=-=-=-=-=-=-=-=-=-=-=-=-=-=-=-=-=-=-=-=-=-=-=-=-=-=-=-=-=-=-=-=\n"
     ]
    }
   ],
   "source": [
    "#67 - Programa colocação de futebol\n",
    "colocados=('Palmeiras','Flamengo','Internacional','Grêmio',\n",
    "           'São Paulo','Atlético-MG','Athletico-PR','Cruzeiro',\n",
    "           'Botafogo','Santos','Bahia','Fluminense','Corinthians',\n",
    "           'Chapecoense','Ceará','Vasco','Sport','América-MG','Vitória','Paraná')\n",
    "print(f\"-Cinco Primeiros Colocados: {colocados[0:5]}\")\n",
    "print('-='*60)\n",
    "print(f\"-Últimos Quatro Colocados: {colocados[16:20]}\")\n",
    "print('-='*60)\n",
    "print(f\"-Times em Ordem Alfabética: {sorted(colocados)}\")\n",
    "print('-='*60)\n",
    "print(f\"-Chapecoense está em {colocados.index('Chapecoense')+1}º colocado.\")\n",
    "print('-='*60)"
   ]
  },
  {
   "cell_type": "code",
   "execution_count": 157,
   "id": "under-commissioner",
   "metadata": {},
   "outputs": [
    {
     "name": "stdout",
     "output_type": "stream",
     "text": [
      "(10, 10, 4, 2, 10)\n",
      "O maior valor é: 10\n",
      "O menor valor é: 2\n"
     ]
    }
   ],
   "source": [
    "#68 - Programa que randomiza números e retorna o maior e o menor. \n",
    "from random import randint\n",
    "randomizando=(randint(0,10),randint(0,10),randint(0,10),randint(0,10),randint(0,10))\n",
    "print(randomizando)\n",
    "print(f'O maior valor é: {max(randomizando)}')\n",
    "print(f'O menor valor é: {min(randomizando)}')"
   ]
  },
  {
   "cell_type": "code",
   "execution_count": 158,
   "id": "exclusive-hampton",
   "metadata": {},
   "outputs": [
    {
     "name": "stdout",
     "output_type": "stream",
     "text": [
      "Digite o 1º valor: 5\n",
      "Digite o 2º valor: 8\n",
      "Digite o 3º valor: 3\n",
      "Digite o 4º valor: 4\n",
      "Digite o 5º valor: 6\n",
      "(5, 8, 3, 4, 6)\n",
      "8 é par\n",
      "4 é par\n",
      "6 é par\n",
      "O número 3 foi encontrado na posição 3\n",
      "O número 9 foi encontrado 0 vez(s)\n"
     ]
    }
   ],
   "source": [
    "#69 - Programa que analisa se existe o número 3 e 9 na tupla.\n",
    "um=int(input(\"Digite o 1º valor: \"))\n",
    "dois=int(input(\"Digite o 2º valor: \"))\n",
    "tres=int(input(\"Digite o 3º valor: \"))\n",
    "quatro=int(input(\"Digite o 4º valor: \"))\n",
    "quinto=int(input(\"Digite o 5º valor: \"))\n",
    "nove=0\n",
    "tupla1=(um,dois,tres,quatro,quinto)\n",
    "print(tupla1)\n",
    "for numero in tupla1:\n",
    "    if numero %2==0:\n",
    "        print(f'{numero} é par')\n",
    "\n",
    "tupla1.count(9)\n",
    "if 3 in tupla1:\n",
    "    print('O número 3 foi encontrado na posição {}'.format(tupla1.index(3)+1))\n",
    "else:\n",
    "    print(\"O número 3 não existe nessa lista \")\n",
    "print(f\"O número 9 foi encontrado {tupla1.count(9)} vez(s)\")\n",
    "\n"
   ]
  },
  {
   "cell_type": "code",
   "execution_count": 159,
   "id": "earlier-birthday",
   "metadata": {},
   "outputs": [
    {
     "name": "stdout",
     "output_type": "stream",
     "text": [
      "\n",
      "Em PÃO possui as seguintes vogais:  o \n",
      "Em CHOCOLATE possui as seguintes vogais:  o o a e \n",
      "Em BANANA possui as seguintes vogais:  a a a \n",
      "Em AMEIXA possui as seguintes vogais:  a e i a "
     ]
    }
   ],
   "source": [
    "#70 - Programa que analisa as vogais em palavras.\n",
    "tuplateste=('pão','chocolate',\n",
    "           'banana','ameixa')\n",
    "for palavra in tuplateste:\n",
    "    print(f'\\nEm {palavra.upper()} possui as seguintes vogais: ', end=' ')\n",
    "    for letra in palavra:\n",
    "        if letra.lower() in'aeiou':\n",
    "            print(letra, end=' ')\n"
   ]
  },
  {
   "cell_type": "code",
   "execution_count": 788,
   "id": "occupational-reservoir",
   "metadata": {},
   "outputs": [
    {
     "name": "stdout",
     "output_type": "stream",
     "text": [
      "___________________________________\n",
      "\n",
      "        TABELA DE PRODUTOS         \n",
      "___________________________________\n",
      "|Macarrao......................R$ 8.75|\n",
      "|Leite.........................R$  4.3|\n",
      "|Peixe.........................R$ 20.0|\n",
      "|Mercurio......................R$ 5.75|\n",
      "|Pincel........................R$ 1.25|\n"
     ]
    }
   ],
   "source": [
    "#71 - Programa tabela de produtos formatada.\n",
    "palavras=('Macarrão', 8.75,\n",
    "          'Leite', 4.30,\n",
    "          'Peixe', 20.0,\n",
    "          'Mercúrio', 5.75,\n",
    "          'Pincel', 1.25)\n",
    "print('_'*35)\n",
    "print(\"\\n{:^35}\".format('TABELA DE PRODUTOS'))\n",
    "print('_'*35)\n",
    "for palavra in range(0,len(palavras)):\n",
    "    if palavra %2 == 0:\n",
    "        print(f'|{palavras[palavra]:.<30}', end='')\n",
    "    else: \n",
    "        print(f'R${palavras[palavra]:>5}|')"
   ]
  },
  {
   "cell_type": "code",
   "execution_count": 840,
   "id": "electoral-protein",
   "metadata": {},
   "outputs": [
    {
     "name": "stdout",
     "output_type": "stream",
     "text": [
      "['batatafrita', 'laranja', 'pizza', 'cachorro-quente']\n",
      "['batatafrita', 'laranja', 'pizza', 'cachorro-quente', 'suco']\n",
      "['Café', 'batatafrita', 'laranja', 'pizza', 'cachorro-quente', 'suco']\n",
      "['Café', 'batatafrita', 'laranja', 'cachorro-quente', 'suco']\n",
      "['Café', 'batatafrita', 'cachorro-quente', 'suco']\n",
      "['Café', 'cachorro-quente', 'suco']\n",
      "[4, 6, 2, 3, 5, 7, 8, 9, 10]\n",
      "[10, 9, 8, 7, 6, 5, 4, 3, 2]\n",
      "[2, 3, 4, 5, 6, 7, 8, 9, 10]\n",
      "[2, 3, 2, 4, 5, 6, 7, 8, 9, 10]\n",
      "[3, 2, 4, 5, 6, 7, 8, 9, 10]\n",
      "Digite um numero: 4\n",
      "Digite um numero: 7\n",
      "Digite um numero: 8\n",
      "Digite um numero: 9\n",
      "Digite um numero: 5\n",
      "Na posição 0 eu encontrei 4\n",
      "Na posição 1 eu encontrei 7\n",
      "Na posição 2 eu encontrei 8\n",
      "Na posição 3 eu encontrei 9\n",
      "Na posição 4 eu encontrei 5\n",
      "          ...FIM...           \n"
     ]
    }
   ],
   "source": [
    "#review do lista\n",
    "\n",
    "lista=['batata-frita','laranja','pizza','cachorro-quente']\n",
    "print(lista)\n",
    "lista.append('suco')\n",
    "print(lista)\n",
    "lista.insert(0,'Café')\n",
    "print(lista)\n",
    "del lista[3]\n",
    "print(lista)\n",
    "lista.pop(2)\n",
    "print(lista)\n",
    "lista.remove('batata-frita')\n",
    "print(lista)\n",
    "listanumerica=[4,6,2,3,5,7,8,9,10]\n",
    "print(listanumerica)\n",
    "listanumerica.sort(reverse=True)\n",
    "print(listanumerica)\n",
    "listanumerica.sort()\n",
    "print(listanumerica)\n",
    "listanumerica.insert(2,2)\n",
    "print(listanumerica)\n",
    "listanumerica.remove(2)\n",
    "print(listanumerica)\n",
    "valores = list()\n",
    "for cont in range(0,5):\n",
    "    valores.append(int(input(\"Digite um número: \")))\n",
    "for c, v in enumerate(valores):\n",
    "    print(f\"Na posição {c} eu encontrei {v}\")\n",
    "print('{:^30}'.format(\"...FIM...\"))\n"
   ]
  },
  {
   "cell_type": "code",
   "execution_count": 857,
   "id": "formed-nickel",
   "metadata": {},
   "outputs": [
    {
     "name": "stdout",
     "output_type": "stream",
     "text": [
      "Copia de valores de uma lista\n",
      "[1, 2, 3, 4, 5]\n",
      "[1, 2, 2, 4, 5]\n",
      "lIGAÇÃO EM LISTAS\n",
      "[1, 2, 4, 4, 5]\n",
      "[1, 2, 4, 4, 5]\n"
     ]
    }
   ],
   "source": [
    "#72 - Programa cópia de valores de uma lista\n",
    "print(\"Cópia de valores de uma lista:\")\n",
    "a=[1,2,3,4,5]\n",
    "b=a[:]\n",
    "b[2]=2\n",
    "print(a)\n",
    "print(b)\n",
    "print(\"LIGAÇÃO EM LISTAS\")\n",
    "c=[1,2,3,4,5]\n",
    "d=c\n",
    "d[2]=4\n",
    "print(c)\n",
    "print(d)\n"
   ]
  },
  {
   "cell_type": "code",
   "execution_count": 161,
   "id": "central-antibody",
   "metadata": {},
   "outputs": [
    {
     "name": "stdout",
     "output_type": "stream",
     "text": [
      "Introduza um valor: 4\n",
      "Introduza um valor: 5\n",
      "Introduza um valor: 6\n",
      "Introduza um valor: 7\n",
      "Introduza um valor: 2\n",
      "|*-*||*-*||*-*||*-*||*-*||*-*||*-*||*-*||*-*||*-*|\n",
      "Os valores foram: [4, 5, 6, 7, 2]\n",
      "|*-*||*-*||*-*||*-*||*-*||*-*||*-*||*-*||*-*||*-*|\n",
      "O maior valor: 7 que está na posição...4\n",
      "O menor valor: 2 que está na posição...5\n",
      "|*-*||*-*||*-*||*-*||*-*||*-*||*-*||*-*||*-*||*-*|\n"
     ]
    }
   ],
   "source": [
    "#73 - Programa maior e menor valor e sua posição:\n",
    "valores=list()\n",
    "for i in range(0,5):\n",
    "    valores.append(int(input(\"Introduza um valor: \")))\n",
    "\n",
    "\n",
    "    \n",
    "maior=max(valores)\n",
    "menor=min(valores)\n",
    "print('|*-*|'*10)\n",
    "print(f\"Os valores foram: {valores}\")       \n",
    "print('|*-*|'*10)\n",
    "print(f'O maior valor: {max(valores)} que está na posição', end='')\n",
    "\n",
    "for v,c in enumerate(valores):\n",
    "    if c == maior:\n",
    "        print(f'...{v+1}')\n",
    "print(f'O menor valor: {min(valores)} que está na posição', end='')    \n",
    "for v, c in enumerate(valores):\n",
    "    if c == menor:\n",
    "        print(f'...{v+1}')\n",
    "print('|*-*|'*10)\n",
    "\n",
    "    \n",
    "   \n",
    "\n"
   ]
  },
  {
   "cell_type": "code",
   "execution_count": 77,
   "id": "enabling-ability",
   "metadata": {},
   "outputs": [
    {
     "name": "stdout",
     "output_type": "stream",
     "text": [
      "Introduça um valor: 4\n",
      "Valor adicionado\n",
      "Quer continuar? S|N: s\n",
      "Introduça um valor: 6\n",
      "Valor adicionado\n",
      "Quer continuar? S|N: s\n",
      "Introduça um valor: 7\n",
      "Valor adicionado\n",
      "Quer continuar? S|N: s\n",
      "Introduça um valor: 4\n",
      "Valor não adicionado\n",
      "Quer continuar? S|N: s\n",
      "Introduça um valor: 8\n",
      "Valor adicionado\n",
      "Quer continuar? S|N: s\n",
      "Introduça um valor: 1\n",
      "Valor adicionado\n",
      "Quer continuar? S|N: n\n",
      "Os numeros que foram adicionados: [4, 6, 7, 8, 1]\n"
     ]
    }
   ],
   "source": [
    "#74 - Programa de adição de vários valores em lista: \n",
    "valor=list()\n",
    "while True:\n",
    "    n=(int(input(\"Introduza um valor: \")))\n",
    "    if n not in valor:\n",
    "        valor.append(n)\n",
    "        print('Valor adicionado')\n",
    "        \n",
    "    else:    \n",
    "        print('Valor não adicionado')\n",
    "\n",
    "    continua=str(input(\"Quer continuar? S|N: \")).upper().strip()[0]\n",
    "    if continua == 'N':\n",
    "        break\n",
    "print('=-'*30)\n",
    "print(f'Os números que foram adicionados: {valor}')    "
   ]
  },
  {
   "cell_type": "code",
   "execution_count": 84,
   "id": "cubic-inclusion",
   "metadata": {},
   "outputs": [
    {
     "name": "stdout",
     "output_type": "stream",
     "text": [
      "Introduça um valor: 8\n",
      "Adicionado no final da lista\n",
      "Introduça um valor: 4\n",
      "Adicionado na posição 0\n",
      "Introduça um valor: 3\n",
      "Adicionado na posição 0\n",
      "Introduça um valor: 5\n",
      "Adicionado na posição 2\n",
      "Introduça um valor: 3\n",
      "Adicionado na posição 0\n",
      "A lista dos valores gerados é: [3, 3, 4, 5, 8]\n"
     ]
    }
   ],
   "source": [
    "#75 - Programa que adiciona valores digitados em ordem na lista:\n",
    "adição=list()\n",
    "for v in range(0,5):\n",
    "    n=(int(input(\"Introduza um valor: \")))\n",
    "   \n",
    "    if v==0 or n > adição[-1]:\n",
    "        adição.append(n)\n",
    "        print(f'Adicionado no final da lista')\n",
    "    else:\n",
    "        pos =0\n",
    "        while pos < len(adição):\n",
    "            if n <= adição[pos]:\n",
    "                adição.insert(pos,n)\n",
    "                print(f'Adicionado na posição {pos}')    \n",
    "                break\n",
    "            pos+=1\n",
    "\n",
    "print(f'A lista dos valores gerados é: {adição}')\n",
    "        \n",
    "    "
   ]
  },
  {
   "cell_type": "code",
   "execution_count": 85,
   "id": "pediatric-prime",
   "metadata": {},
   "outputs": [
    {
     "name": "stdout",
     "output_type": "stream",
     "text": [
      "Introduça um valor: 4\n",
      "Quer continuar S|N: 5\n",
      "Quer continuar S|N: 7\n",
      "Quer continuar S|N: 8\n",
      "Quer continuar S|N: s\n",
      "Introduça um valor: 9\n",
      "Quer continuar S|N: s\n",
      "Introduça um valor: 7\n",
      "Quer continuar S|N: s\n",
      "Introduça um valor: 1\n",
      "Quer continuar S|N: s\n",
      "Introduça um valor: 2\n",
      "Quer continuar S|N: s\n",
      "Introduça um valor: 6\n",
      "Quer continuar S|N: n\n",
      "Foram digitados 6 valores.\n",
      "Foram digitados os valores na ordem [4, 9, 7, 1, 2, 6] \n",
      "A ordem DESCRECENTE dos valores: [9, 7, 6, 4, 2, 1]\n",
      "O valor 5 não esta na lista\n"
     ]
    }
   ],
   "source": [
    "#76 - Programa que adiciona valores em lista na ordem descrecente com parametro sort(reverse=True):\n",
    "entrada= list()\n",
    "\n",
    "while True:\n",
    "    entrada.append(int(input(\"Introduza um valor: \")))\n",
    "    continua=' '\n",
    "    while continua not in 'SN':\n",
    "        continua=str(input(\"Quer continuar S|N: \")).upper().strip()[0]\n",
    "    if continua == 'N':\n",
    "        break\n",
    "print(f'Foram digitados {len(entrada)} valores.')\n",
    "print(f'Foram digitados os valores na ordem {entrada} ')\n",
    "entrada.sort(reverse=True)\n",
    "print(f'A ordem DECRESCENTE dos valores: {entrada}')\n",
    "if 5 in entrada:\n",
    "    print(\"O valor 5 está na lista.\")\n",
    "else:\n",
    "    print(\"O valor 5 não está na lista.\")"
   ]
  },
  {
   "cell_type": "code",
   "execution_count": 27,
   "id": "active-country",
   "metadata": {},
   "outputs": [
    {
     "name": "stdout",
     "output_type": "stream",
     "text": [
      "Introduça um numero: 4\n",
      "Quer continuar S|N: s\n",
      "Introduça um numero: 5\n",
      "Quer continuar S|N: s\n",
      "Introduça um numero: 7\n",
      "Quer continuar S|N: s\n",
      "Introduça um numero: 8\n",
      "Quer continuar S|N: s\n",
      "Introduça um numero: 9\n",
      "Quer continuar S|N: s\n",
      "Introduça um numero: 13\n",
      "Quer continuar S|N: s\n",
      "Introduça um numero: 11\n",
      "Quer continuar S|N: s\n",
      "Introduça um numero: 20\n",
      "Quer continuar S|N: s\n",
      "Introduça um numero: 17\n",
      "Quer continuar S|N: s\n",
      "Introduça um numero: 119\n",
      "Quer continuar S|N: n\n",
      "Os numeros digitados foram: [4, 5, 7, 8, 9, 13, 11, 20, 17, 119]\n",
      "Os numeros pares são: [4, 8, 20]\n",
      "Os numeros impares são: [5, 7, 9, 13, 11, 17, 119]\n"
     ]
    }
   ],
   "source": [
    "#77 - Programa que separa valores em listas pares e ímpares:\n",
    "lista3= list()\n",
    "while True:\n",
    "    lista3.append(int(input(\"Introduza um número: \")))\n",
    "    continua=' '\n",
    "    while continua not in 'SN':\n",
    "        continua=str(input(\"Quer continuar S|N: \")).upper().strip()[0]\n",
    "    if continua == 'N':\n",
    "        break\n",
    "lista4= list ()\n",
    "lista5= list ()\n",
    "for n in lista3:\n",
    "    if n % 2==0:\n",
    "        lista4.append(n)\n",
    "    if n % 2 == 1:\n",
    "        lista5.append(n)\n",
    "print(f'Os números digitados foram: {lista3}')\n",
    "print(f'Os números pares são: {lista4}')\n",
    "print(f'Os números ímpares são: {lista5}')"
   ]
  },
  {
   "cell_type": "code",
   "execution_count": 106,
   "id": "following-office",
   "metadata": {},
   "outputs": [
    {
     "name": "stdout",
     "output_type": "stream",
     "text": [
      "Digite uma expressão: (a+b)*(a/b)((\n",
      "Sua expressão está INVÁLIDA\n"
     ]
    }
   ],
   "source": [
    "#78 - Programa verificador de expressões matemáticas, verificando se os parênteses estão coerentes:\n",
    "expressão1=list()\n",
    "expressão=(str(input(\"Digite uma expressão: \")))\n",
    "for i in expressão:\n",
    "    if i == '(':\n",
    "        expressão1.append('(')\n",
    "    elif i == ')':\n",
    "        if len(expressão1)> 0:\n",
    "            expressão1.pop()\n",
    "        else:\n",
    "            expressão1.append(')')\n",
    "            break\n",
    "if len(expressão1) == 0:\n",
    "    print('Sua expressão está VÁLIDA')\n",
    "else:\n",
    "    print('Sua expressão está INVÁLIDA')\n",
    "            \n",
    "        \n",
    "    \n",
    "    "
   ]
  },
  {
   "cell_type": "code",
   "execution_count": 164,
   "id": "textile-stanford",
   "metadata": {},
   "outputs": [
    {
     "name": "stdout",
     "output_type": "stream",
     "text": [
      "17\n",
      "O nome dela(e) é Lara com 19 anos \n",
      "O nome dela(e) é vitor com 20 anos \n",
      "O nome dela(e) é gabriel com 17 anos \n",
      "O nome dela(e) é joaquim com 15 anos \n",
      "O nome dela(e) é maria com 22 anos \n"
     ]
    }
   ],
   "source": [
    "#79 - Programa trabalhando com listas em listas\n",
    "\n",
    "lista=[['Lara','19'],['vitor','20'],['gabriel','17'],['joaquim','15'],['maria','22']]\n",
    "print(lista[2][1])\n",
    "for p in lista:\n",
    "    print(f'O nome dela(e) é {p[0]} com ', end='')\n",
    "    print(f'{p[1]} anos ')"
   ]
  },
  {
   "cell_type": "code",
   "execution_count": 4,
   "id": "apart-tactics",
   "metadata": {},
   "outputs": [
    {
     "name": "stdout",
     "output_type": "stream",
     "text": [
      "NOME: vitor\n",
      "IDADE: 21\n",
      "NOME: lara\n",
      "IDADE: 15\n",
      "NOME: rafael\n",
      "IDADE: 15\n",
      "[['vitor', 21], ['lara', 15], ['rafael', 15]]\n",
      "vitor é maior de idade\n",
      "lara é menor de idade\n",
      "rafael é menor de idade\n",
      "1 são maiores de idade e 2 são menores de idade\n"
     ]
    }
   ],
   "source": [
    "#80 - Programa com lista que gerencia se as pessoas cadastradas são maiores de idade ou não:\n",
    "\n",
    "lista2=list()\n",
    "lista3=list()\n",
    "maior=menor=0\n",
    "for i in range(0,3):\n",
    "    lista3.append(str(input('NOME: ')))\n",
    "    lista3.append(int(input('IDADE: ')))\n",
    "    lista2.append(lista3[:])\n",
    "    lista3.clear()  #parametro clear\n",
    "print(lista2)\n",
    "for p in lista2:\n",
    "    if p[1] >= 21:\n",
    "        print(f'{p[0]} é maior de idade')\n",
    "        maior+=1\n",
    "    else:\n",
    "        print(f'{p[0]} é menor de idade')\n",
    "        menor+=1\n",
    "print(f'{maior} pessoas são maiores de idade e {menor} pessoas são menores de idade')"
   ]
  },
  {
   "cell_type": "code",
   "execution_count": 16,
   "id": "afraid-correction",
   "metadata": {},
   "outputs": [
    {
     "name": "stdout",
     "output_type": "stream",
     "text": [
      "Nome: vitor\n",
      "Peso: 102\n",
      "Quer continuar S|N: s\n",
      "Nome: lara\n",
      "Peso: 70\n",
      "Quer continuar S|N: s\n",
      "Nome: maria\n",
      "Peso: 65\n",
      "Quer continuar S|N: s\n",
      "Nome: gabriel\n",
      "Peso: 117.5\n",
      "Quer continuar S|N: n\n",
      "[['vitor', 102.0], ['lara', 70.0], ['maria', 65.0], ['gabriel', 117.5]]\n",
      "O cadastrado vitor com maior peso de 102.0 KG \n",
      "O cadastrado lara com menor peso de 70.0 KG\n",
      "O cadastrado maria com menor peso de 65.0 KG\n",
      "O cadastrado gabriel com maior peso de 117.5 KG \n",
      "Foram cadastrados 4 pessoas.\n"
     ]
    }
   ],
   "source": [
    "#81 - Programa: Nome e peso, mais pesado e mais leve com lista:\n",
    "lista=[]\n",
    "lista1=[]\n",
    "continua=' '\n",
    "quantidade=0\n",
    "while True:\n",
    "    lista.append(str(input(\"Nome: \")))\n",
    "    lista.append(float(input('Peso: ')))\n",
    "    lista1.append(lista[:])\n",
    "    lista.clear()\n",
    "    continua=str(input('Quer continuar S|N: ')).upper().strip()[0]\n",
    "    if continua == 'N':\n",
    "        break\n",
    "print(lista1)\n",
    "for conjun_dados in lista1:\n",
    "    quantidade+=1\n",
    "    if conjun_dados[1] >= 100:\n",
    "        print(f'O cadastrado {conjun_dados[0]} com maior peso de {conjun_dados[1]} KG ')\n",
    "    elif conjun_dados[1] <= 70:\n",
    "        print(f'O cadastrado {conjun_dados[0]} com menor peso de {conjun_dados[1]} KG')\n",
    "print(f'Foram cadastrados {quantidade} pessoas.')\n"
   ]
  },
  {
   "cell_type": "code",
   "execution_count": 19,
   "id": "closed-professional",
   "metadata": {},
   "outputs": [
    {
     "name": "stdout",
     "output_type": "stream",
     "text": [
      "Nome: vitor\n",
      "Peso: 101.5\n",
      "Quer continuar S|N: s\n",
      "Nome: lara\n",
      "Peso: 70\n",
      "Quer continuar S|N: s\n",
      "Nome: rita\n",
      "Peso: 65.8\n",
      "Quer continuar S|N: s\n",
      "Nome: felipe\n",
      "Peso: 117.9\n",
      "Quer continuar S|N: s\n",
      "Nome: maria\n",
      "Peso: 88.9\n",
      "Quer continuar S|N: n\n",
      "[['vitor', 101.5], ['lara', 70.0], ['rita', 65.8], ['felipe', 117.9], ['maria', 88.9]]\n",
      "Os maiores pesos estavam acima de 100 kg, e quem teve o maior peso ['vitor', 'felipe']\n",
      "Os menores pesos estavam abaixo de 70 kg, e quem teve o menor peso foi ['lara', 'rita']\n",
      "Foram cadastrados 5 pessoas.\n"
     ]
    }
   ],
   "source": [
    "#82 - Programa: Nome e peso, mais pesado e mais leve com listas:\n",
    "lista=[]\n",
    "lista1=[]\n",
    "maispesados=[]\n",
    "menospesados=[]\n",
    "continua=' '\n",
    "quantidade=0\n",
    "while True:\n",
    "    lista.append(str(input(\"Nome: \")))\n",
    "    lista.append(float(input('Peso: ')))\n",
    "    lista1.append(lista[:])\n",
    "    lista.clear()\n",
    "    continua=str(input('Quer continuar S|N: ')).upper().strip()[0]\n",
    "    if continua == 'N':\n",
    "        break\n",
    "print(lista1)\n",
    "for conjun_dados in lista1:\n",
    "    quantidade+=1\n",
    "    if conjun_dados[1] >= 100:\n",
    "        maispesados.append(conjun_dados[0])\n",
    "    elif conjun_dados[1] <= 70:\n",
    "        menospesados.append(conjun_dados[0])\n",
    "\n",
    "print(f'Os maiores pesos estavam acima de 100 kg e quem teve o maior peso {maispesados}')\n",
    "print(f'Os menores pesos estavam abaixo de 70 kg e quem teve o menor peso foi {menospesados}')\n",
    "print(f'Foram cadastrados {quantidade} pessoas.')\n"
   ]
  },
  {
   "cell_type": "code",
   "execution_count": 27,
   "id": "authorized-scanner",
   "metadata": {},
   "outputs": [
    {
     "name": "stdout",
     "output_type": "stream",
     "text": [
      "Introduçã o 1º valor: 7\n",
      "Introduçã o 2º valor: 8\n",
      "Introduçã o 3º valor: 2\n",
      "Introduçã o 4º valor: 3\n",
      "Introduçã o 5º valor: 4\n",
      "Introduçã o 6º valor: 6\n",
      "Introduçã o 7º valor: 7\n",
      "Os valores pares digitados foram: [2, 4, 6, 8]\n",
      "Os valores impares digitados foram: [3, 7, 7]\n"
     ]
    }
   ],
   "source": [
    "#83 - Programa: separação de valores em dois lados de uma lista\n",
    "#valores pares e ímpares com listas.\n",
    "#par[0] ímpares\n",
    "#par[1] par\n",
    "par=[[],[]]\n",
    "\n",
    "for i in range(0,7):\n",
    "    \n",
    "    valor=int(input(f'Introduza o {i+1}º valor: '))\n",
    "    if valor %2==0:\n",
    "        par[1].append(valor)\n",
    "    elif valor %2 ==1:\n",
    "        par[0].append(valor)\n",
    "par[1].sort()\n",
    "print(f'Os valores pares digitados foram: {par[1]}')\n",
    "par[0].sort()\n",
    "print(f\"Os valores ímpares digitados foram: {par[0]}\")"
   ]
  },
  {
   "cell_type": "code",
   "execution_count": 155,
   "id": "rational-consequence",
   "metadata": {},
   "outputs": [
    {
     "name": "stdout",
     "output_type": "stream",
     "text": [
      "Digite o 1 valor:1\n",
      "Digite o 2 valor:4\n",
      "Digite o 3 valor:5\n",
      "Digite o 4 valor:7\n",
      "Digite o 5 valor:8\n",
      "Digite o 6 valor:9\n",
      "Digite o 7 valor:5\n",
      "Digite o 8 valor:5\n",
      "Digite o 9 valor:4\n",
      "|[1][4][5]|\n",
      "|[7][8][9]|\n",
      "|[5][5][4]|\n"
     ]
    }
   ],
   "source": [
    "#84 - Programa: gerando uma matriz com números digitados:\n",
    "matriz=[[],[],[],\n",
    "       [],[],[],\n",
    "       [],[],[]]\n",
    "n=0\n",
    "\n",
    "for i in range(0,9):\n",
    "    valor=int(input(f\"Digite o {i+1} valor:\"))\n",
    "    matriz[n].append(valor)\n",
    "    n+=1\n",
    "print(f'|{ matriz[0]}{ matriz[1] }{ matriz[2] }|\\n|{ matriz[3] }{ matriz[4] }{ matriz[5] }|\\n|{ matriz[6] }{ matriz[7] }{ matriz[8] }|')"
   ]
  },
  {
   "cell_type": "code",
   "execution_count": 165,
   "id": "bibliographic-reputation",
   "metadata": {},
   "outputs": [
    {
     "name": "stdout",
     "output_type": "stream",
     "text": [
      "Digite o 1 valor:1\n",
      "Digite o 2 valor:4\n",
      "Digite o 3 valor:4\n",
      "Digite o 4 valor:5\n",
      "Digite o 5 valor:5\n",
      "Digite o 6 valor:7\n",
      "Digite o 7 valor:8\n",
      "Digite o 8 valor:5\n",
      "Digite o 9 valor:5\n",
      "|[1][4][4]|\n",
      "|[5][5][7]|\n",
      "|[8][5][5]|\n",
      "Soma dos valores pares: 16\n",
      "A soma dos valores da terceira coluna: 16\n",
      "O maior valor da segunda linha é: 7\n"
     ]
    }
   ],
   "source": [
    "#85 - Programa: Matriz com listas.\n",
    "maiorlinha=[]\n",
    "somacoluna=[]\n",
    "somapares=list()\n",
    "matriz=[[],[],[],\n",
    "       [],[],[],\n",
    "       [],[],[]]\n",
    "n=0\n",
    "\n",
    "for i in range(0,9):\n",
    "    valor=int(input(f\"Digite o {i+1} valor:\"))\n",
    "    matriz[n].append(valor)\n",
    "    n+=1\n",
    "\n",
    "    \n",
    "    \n",
    "for v in matriz:\n",
    "    for vlist in v:\n",
    "        if vlist % 2== 0:\n",
    "            somapares.append(vlist)\n",
    "soma=sum(somapares)\n",
    "for l in (matriz[2],matriz[5],matriz[8]):\n",
    "    for ç in l:\n",
    "        somacoluna.append(ç)\n",
    "for v in (matriz[3], matriz[4],matriz[5]):\n",
    "    for f in v:\n",
    "        maiorlinha.append(f)\n",
    "    \n",
    "\n",
    "    \n",
    "   \n",
    "print(f'|{ matriz[0]}{ matriz[1] }{ matriz[2] }|\\n|{ matriz[3] }{ matriz[4] }{ matriz[5] }|\\n|{ matriz[6] }{ matriz[7] }{ matriz[8] }|')\n",
    "print(f'Soma dos valores pares: {soma}')\n",
    "print(f'A soma dos valores da terceira coluna: {sum(somacoluna)}')\n",
    "print(f'O maior valor da segunda linha é: {max(maiorlinha)}')\n",
    "\n"
   ]
  },
  {
   "cell_type": "code",
   "execution_count": null,
   "id": "racial-kruger",
   "metadata": {},
   "outputs": [],
   "source": []
  },
  {
   "cell_type": "code",
   "execution_count": 202,
   "id": "upset-adapter",
   "metadata": {
    "scrolled": true
   },
   "outputs": [
    {
     "name": "stdout",
     "output_type": "stream",
     "text": [
      "{'nome': 'Vitor', 'idade': '21'}\n",
      "Vitor\n",
      "{'nome': 'Vitor', 'idade': '21', 'Sexo': 'M'}\n",
      "{'nome': 'Vitor', 'Sexo': 'M'}\n",
      "dict_values(['Vitor', 'M'])\n",
      "dict_keys(['nome', 'Sexo'])\n",
      "dict_items([('nome', 'Vitor'), ('Sexo', 'M')])\n",
      "O nome é Vitor\n",
      "O Sexo é M\n",
      "[{'nome': 'Vitor', 'Sexo': 'M'}]\n",
      "M\n"
     ]
    }
   ],
   "source": [
    "#Curso Python #19 - Dicionários\n",
    "#review\n",
    "\n",
    "dicionario=dict()\n",
    "ou = {}\n",
    "informações={'nome': 'Vitor','idade':'21',}\n",
    "print(informações)\n",
    "print(informações['nome'])\n",
    "\n",
    "#método append não funciona com dicionários\n",
    "\n",
    "#para criar pode fazer direto com\n",
    "informações['Sexo']='M'\n",
    "print(informações)\n",
    "\n",
    "#MÉTODO DEL FUNCIONA COM DICIONÁRIOS\n",
    "del informações['idade']\n",
    "print(informações)\n",
    "\n",
    "#PARA RECORRRER AOS VALORES PODE-SE UTILIZAR O MÉTODO VALUEs()=VALOR\n",
    "\n",
    "print(informações.values())\n",
    "\n",
    "#para recorrer as chaves pode-se utilizar o método keys\n",
    "print(informações.keys())\n",
    "\n",
    "#para um item específico pode-se utilizar o método items()\n",
    "print(informações.items())\n",
    "\n",
    "for k,v in informações.items():\n",
    "    print(f'O {k} é {v}')\n",
    "#pode-se ter dicionários dentro de listas\n",
    "lista=[]\n",
    "lista.append(informações)\n",
    "print(lista)\n",
    "\n",
    "print(lista[0]['Sexo'])"
   ]
  },
  {
   "cell_type": "code",
   "execution_count": 26,
   "id": "grand-jackson",
   "metadata": {},
   "outputs": [
    {
     "name": "stdout",
     "output_type": "stream",
     "text": [
      "-=-=-=-=-=-=-=-=-=-=-=-=-=-=-=-=-=-=-=-=\n",
      "nome = Vitor\n",
      "idade = 21\n",
      "-=-=-=-=-=-=-=-=-=-=-=-=-=-=-=-=-=-=-=-=\n",
      "Vitor\n",
      "21\n",
      "-=-=-=-=-=-=-=-=-=-=-=-=-=-=-=-=-=-=-=-=\n",
      "nome\n",
      "idade\n",
      "-=-=-=-=-=-=-=-=-=-=-=-=-=-=-=-=-=-=-=-=\n",
      "{'uf': 'Rio de Janeiro', 'sigla': 'Rj'}\n",
      "{'uf': 'São Paulo', 'sigla': 'SP'}\n",
      "-=-=-=-=-=-=-=-=-=-=-=-=-=-=-=-=-=-=-=-=\n",
      "{'uf': 'Rio de Janeiro', 'sigla': 'Rj'}\n",
      "-=-=-=-=-=-=-=-=-=-=-=-=-=-=-=-=-=-=-=-=\n",
      "Rio de Janeiro\n",
      "-=-=-=-=-=-=-=-=-=-=-=-=-=-=-=-=-=-=-=-=\n",
      "Estado: Rio de janeiro\n",
      "Sigla: Rj\n",
      "Estado: São Paulo\n",
      "Sigla: SP\n",
      "Estado: Minas Gerais\n",
      "Sigla: MG\n",
      "[{'uf': 'Rio de janeiro', 'sigla': 'Rj'}, {'uf': 'São Paulo', 'sigla': 'SP'}, {'uf': 'Minas Gerais', 'sigla': 'MG'}]\n"
     ]
    }
   ],
   "source": [
    "#86 - Programa: treining dicionários\n",
    "print('-='*20)\n",
    "informações={'nome': 'Vitor','idade':'21',}\n",
    "for k,v in informações.items():\n",
    "    print(f'{k} = {v}')\n",
    "print('-='*20)\n",
    "for l in informações.values():\n",
    "    print(l)\n",
    "print('-='*20)\n",
    "for c in informações.keys():\n",
    "    print(c)\n",
    "print('-='*20)\n",
    "estado1={'uf':'Rio de Janeiro', 'sigla': 'Rj'}\n",
    "estado2={'uf': 'São Paulo', 'sigla': 'SP'}\n",
    "print(estado1)\n",
    "print(estado2)\n",
    "print('-='*20)\n",
    "brasil=[]\n",
    "brasil.append(estado1)\n",
    "brasil.append(estado2)\n",
    "print(brasil[0])\n",
    "print('-='*20)\n",
    "print(brasil[0]['uf'])\n",
    "print('-='*20)\n",
    "#para fatiar um dicionário e copiá-lo utiliza-se o .copy() e não o [:]\n",
    "\n",
    "estado={}\n",
    "Brasil=[]\n",
    "for i in range(0,3):\n",
    "    estado['uf']=str(input('Estado: '))\n",
    "    estado['sigla']=str(input('Sigla: '))\n",
    "    Brasil.append(estado.copy())\n",
    "print(Brasil)"
   ]
  },
  {
   "cell_type": "code",
   "execution_count": 167,
   "id": "opponent-pipeline",
   "metadata": {},
   "outputs": [
    {
     "name": "stdout",
     "output_type": "stream",
     "text": [
      "-=-=-=-=-=-=-=-=-=-=-=-=-=-=-=-=-=-=-=-=\n",
      "Situação Alunos Notas\n",
      "-=-=-=-=-=-=-=-=-=-=-=-=-=-=-=-=-=-=-=-=\n",
      "Nome: Vitor\n",
      "Media:9\n",
      "-=-=-=-=-=-=-=-=-=-=-=-=-=-=-=-=-=-=-=-=\n",
      "Nome do Aluno: Vitor\n",
      "\n",
      "Média do Aluno: 9.0\n",
      "\n",
      "Situação do Aluno: Aprovado\n"
     ]
    }
   ],
   "source": [
    "#87 - Programa situação do aluno com dicionários:\n",
    "\n",
    "\n",
    "print('-='*20)\n",
    "print('Situação Alunos Notas')\n",
    "print('-='*20)\n",
    "aluno={}\n",
    "alunosituação=[]\n",
    "aluno['Nome']=str(input('Nome: '))\n",
    "aluno['Media']=float(input('Media:'))\n",
    "alunosituação.append(aluno)\n",
    "if aluno['Media'] >= 7.0:\n",
    "    alunosituação.append('Aprovado')\n",
    "    \n",
    "elif aluno['Media'] < 5.0:\n",
    "    alunosituação.append('Reprovado')\n",
    "    \n",
    "elif 5.0 < aluno['Media'] < 7.0:\n",
    "    alunosituação.append('Recuperação')\n",
    "    \n",
    "print('-='*20)\n",
    "print('Nome do Aluno: ',end='')\n",
    "print(aluno['Nome'])\n",
    "print()\n",
    "print('Média do Aluno: ',end='')\n",
    "print(aluno['Media'])\n",
    "print()\n",
    "print('Situação do Aluno: ',end='')\n",
    "print(alunosituação[1])\n",
    "\n"
   ]
  },
  {
   "cell_type": "code",
   "execution_count": 168,
   "id": "third-beverage",
   "metadata": {
    "scrolled": true
   },
   "outputs": [
    {
     "name": "stdout",
     "output_type": "stream",
     "text": [
      "{'jogador': 1, 'Dado': 4}\n",
      "{'jogador': 2, 'Dado': 6}\n",
      "{'jogador': 3, 'Dado': 4}\n",
      "{'jogador': 4, 'Dado': 1}\n"
     ]
    }
   ],
   "source": [
    "#88 - Programa Jogo de Dados:\n",
    "\n",
    "from random import randint\n",
    "from time import sleep\n",
    "from operator import itemgetter\n",
    "conjuntojogador={}\n",
    "lista=[]\n",
    "ranking={}\n",
    "for i in range(1,5):\n",
    "    conjuntojogador['jogador']=i\n",
    "    conjuntojogador['Dado']=randint(1,6)\n",
    "    sleep(0.5)\n",
    "    lista.append(conjuntojogador.copy())\n",
    "    print(conjuntojogador)\n",
    "\n"
   ]
  },
  {
   "cell_type": "code",
   "execution_count": 170,
   "id": "breeding-breast",
   "metadata": {},
   "outputs": [
    {
     "name": "stdout",
     "output_type": "stream",
     "text": [
      "Nome: Vitor\n",
      "Ano de Nascimento: 2013\n",
      "Nº Carteira de Trabalho: (não tem dígito 0): 97812224488\n",
      "Ano de contratação: 2021\n",
      "Salario: 1988\n",
      "\n",
      "   ----Ficha Cadastral----    \n",
      "O Nome tem o valor: Vitor\n",
      "O Idade tem o valor: 8\n",
      "O Salario tem o valor: 1988.0\n",
      "O Ano de contratação tem o valor: 2021\n",
      "O Aposentadoria tem o valor: 43\n"
     ]
    }
   ],
   "source": [
    "#89 - Programa cadastro de trabalhador:\n",
    "from datetime import date\n",
    "ano=date.today().year\n",
    "\n",
    "cadastro={}\n",
    "cadastro['Nome']=str(input('Nome: '))\n",
    "nascimento=int(input('Ano de Nascimento: '))\n",
    "idade=ano-nascimento\n",
    "cadastro['Idade']=idade \n",
    "carteira=int(input('Nº Carteira de Trabalho: (não tem dígito 0): '))\n",
    "\n",
    "if carteira != 0:\n",
    "    \n",
    "    anocontrata=int(input('Ano de contratação: '))\n",
    "    cadastro['Salario']=float(input('Salario: '))\n",
    "    cadastro['Ano de contratação']=anocontrata\n",
    "    aposentadoria=((35-(ano-anocontrata))+idade)\n",
    "    cadastro['Aposentadoria']=aposentadoria\n",
    "print()\n",
    "print('{:^30}'.format('----Ficha Cadastral----'))\n",
    "for i,k in cadastro.items():\n",
    "    \n",
    "    print('O {} tem o valor: {}'.format(i,k))\n",
    "\n"
   ]
  },
  {
   "cell_type": "code",
   "execution_count": 172,
   "id": "analyzed-missile",
   "metadata": {},
   "outputs": [
    {
     "name": "stdout",
     "output_type": "stream",
     "text": [
      "Nome do jogador: 3\n",
      "Nº de partidas jogadas por 3: 3\n",
      "Nº gols partida 1: 2\n",
      "Nº gols partida 2: 1\n",
      "Nº gols partida 3: 6\n",
      "{'Nome do jogador': '3', 'Quantidade de gols por partida': [2, 1, 6], 'Total de gols no campeonato': 9}\n",
      "-=-=-=-=-=-=-=-=-=-=-=-=-=-=-=-=-=-=-=-=-=-=-=-=-=-=-=-=-=-=\n",
      "O campo Nome do jogador tem o valor 3\n",
      "O campo Quantidade de gols por partida tem o valor [2, 1, 6]\n",
      "O campo Total de gols no campeonato tem o valor 9\n",
      "-=-=-=-=-=-=-=-=-=-=-=-=-=-=-=-=-=-=-=-=-=-=-=-=-=-=-=-=-=-=\n",
      "O jogador 3 jogou 3 partidas.\n",
      "     => Na partida 1 o jogador fez 2 gols\n",
      "     => Na partida 2 o jogador fez 1 gols\n",
      "     => Na partida 3 o jogador fez 6 gols\n",
      "Foi um total de 9 gols\n"
     ]
    }
   ],
   "source": [
    "#90 - Programa cadastro de Jogador de Futebol:\n",
    "somadegols=0\n",
    "gols=[]\n",
    "aproveitamento={}\n",
    "aproveitamento['Nome do jogador']=str(input('Nome do jogador: '))#nome de jogador adição em dicionário\n",
    "partidasjogadas=int(input(f'Nº de partidas jogadas por {aproveitamento[\"Nome do jogador\"]}: ')) #partidas jogadas input\n",
    "for i in range(0,partidasjogadas): #gol por partida\n",
    "    gol=int(input(f'Nº gols partida {i+1}: '))# input do gol partida\n",
    "    gols.append(gol)#adição na lista os gols por partida\n",
    "    \n",
    "aproveitamento['Quantidade de gols por partida']=gols#adição da lista no dicionário \n",
    "for gol in gols: #soma de gols\n",
    "    somadegols+=gol\n",
    "aproveitamento['Total de gols no campeonato']=somadegols #adição dicionário da soma de gols\n",
    "print(aproveitamento)\n",
    "print('-='*30)\n",
    "#apresentação ordenada do dicionário na tela \n",
    "for v,k in aproveitamento.items():\n",
    "    print(f'O campo {v} tem o valor {k}')\n",
    "print('-='*30)\n",
    "#apresentação gols por partidas \n",
    "print('O jogador {} jogou {} partidas.'.format(aproveitamento['Nome do jogador'],partidasjogadas))\n",
    "for b,v in enumerate (gols):\n",
    "    print(f'     => Na partida {b+1} o jogador fez {v} gols')\n",
    "#total de gols\n",
    "print('Foi um total de {} gols'.format(aproveitamento['Total de gols no campeonato']))"
   ]
  },
  {
   "cell_type": "code",
   "execution_count": 311,
   "id": "super-grocery",
   "metadata": {},
   "outputs": [
    {
     "name": "stdout",
     "output_type": "stream",
     "text": [
      "Nome: vitor\n",
      "Sexo M|F: m\n",
      "Idade: 20\n",
      "Continuar S|N: t\n",
      "Continuar S|N: l\n",
      "Continuar S|N: s\n",
      "Nome: lara\n",
      "Sexo M|F: g\n",
      "ERRO, Por favor so digite M ou F.\n",
      "Sexo M|F: f\n",
      "Idade: 30\n",
      "Continuar S|N: n\n",
      "-=-=-=-=-=-=-=-=-=-=-=-=-=-=-=-=-=-=-=-=-=-=-=-=-=-=-=-=-=-=\n",
      "--2 Pessoas Cadastradas--\n",
      "{'Nome': 'vitor', 'Sexo M|F': 'M', 'Idade': 20}\n",
      "{'Nome': 'lara', 'Sexo M|F': 'F', 'Idade': 30}\n",
      "A média de idade cadastrada: 25.0 anos\n",
      "-=-=-=-=-=-=-=-=-=-=-=-=-=-=-=-=-=-=-=-=-=-=-=-=-=-=-=-=-=-=\n",
      "Mulheres: \n",
      "=>[{'Nome': 'lara', 'Sexo M|F': 'F', 'Idade': 30}]\n",
      "-=-=-=-=-=-=-=-=-=-=-=-=-=-=-=-=-=-=-=-=-=-=-=-=-=-=-=-=-=-=\n",
      "Pessoas com idade acima da média: \n",
      "=>{'Nome': 'lara', 'Sexo M|F': 'F', 'Idade': 30}\n"
     ]
    }
   ],
   "source": [
    "#91 - Programa unindo dicionários e listas\n",
    "mulheres=[]\n",
    "maiores=[]\n",
    "pessoa={}\n",
    "conjuntopessoas=[]\n",
    "somadeidades=0\n",
    "while True: #pedindo dados   \n",
    "    pessoa['Nome']=str(input('Nome: '))\n",
    "    while True:\n",
    "        pessoa['Sexo M|F']=str(input('Sexo M|F: ')).upper()[0]\n",
    "        if pessoa['Sexo M|F'] in 'MF':\n",
    "            break\n",
    "        else:\n",
    "            print('ERRO, Por favor só digite M ou F.')\n",
    "    pessoa['Idade']=int(input('Idade: '))\n",
    "    somadeidades+=pessoa['Idade']\n",
    "    continua=''\n",
    "    conjuntopessoas.append(pessoa.copy())#colocando o dicionário em uma lista\n",
    "    while True:\n",
    "        continua=str(input('Continuar S|N: ')).upper()[0]#Pergunta se o usuário quer continuar\n",
    "        if continua in 'SN':\n",
    "            break\n",
    "    \n",
    "    if continua == 'N':\n",
    "        break\n",
    "quantidadecadastro=len(conjuntopessoas) #quantas pessoas foram cadastradas   \n",
    "mediaidade=somadeidades/quantidadecadastro#cálculo de medida das idades cadastradas\n",
    "print('-='*30)\n",
    "#cadastros:\n",
    "print(f'--{quantidadecadastro} Pessoas Cadastradas--')\n",
    "for i in conjuntopessoas:\n",
    "    print(i)\n",
    "print(f'A média de idade cadastrada: {mediaidade:.1f} anos')\n",
    "print('-='*30)\n",
    "#quantidade de mulheres cadastradas\n",
    "for i in conjuntopessoas:\n",
    "    if i['Sexo M|F'] in 'Ff':\n",
    "        mulheres.append(i.copy())\n",
    "#pessoas acima da média de idade     \n",
    "    if i['Idade'] > mediaidade:\n",
    "        maiores.append(i.copy())\n",
    "#print():        \n",
    "print('Mulheres: ')\n",
    "print(f'=>{mulheres}')\n",
    "print('-='*30)\n",
    "print('Pessoas com idade acima da média: ')\n",
    "for pessoa in maiores:\n",
    "    print(f'=>{pessoa}')"
   ]
  },
  {
   "cell_type": "code",
   "execution_count": 317,
   "id": "royal-guinea",
   "metadata": {},
   "outputs": [
    {
     "name": "stdout",
     "output_type": "stream",
     "text": [
      "---Sem criar uma função---\n",
      "------------------------------\n",
      "          OLÁ MUNDO           \n",
      "------------------------------\n",
      "\n",
      "---Criando uma Função---\n",
      "------------------------------\n",
      "          OLÁ MUNDO           \n",
      "------------------------------\n"
     ]
    }
   ],
   "source": [
    "\n",
    "print('---Sem criar uma função---')\n",
    "print('-'*30)\n",
    "print(\"{:^30}\".format('OLÁ MUNDO'))\n",
    "print('-'*30)\n",
    "print()\n",
    "print('---Criando uma Função---')\n",
    "def mostralinha():\n",
    "    print('-'*30)\n",
    "\n",
    "mostralinha()\n",
    "print(\"{:^30}\".format('OLÁ MUNDO'))\n",
    "mostralinha()"
   ]
  },
  {
   "cell_type": "code",
   "execution_count": 175,
   "id": "english-mambo",
   "metadata": {
    "scrolled": true
   },
   "outputs": [
    {
     "name": "stdout",
     "output_type": "stream",
     "text": [
      "------------------------------\n",
      "SISTEMA DE ALUNOS\n",
      "------------------------------\n",
      "3\n",
      "(2, 3, 4, 5)\n",
      "(7, 6, 3, 1)\n",
      "31\n",
      "Valor: 2\n",
      "Quer continuar? S|N:n\n",
      "A soma dos valores: 2\n"
     ]
    }
   ],
   "source": [
    "#Programa parâmetros que são funcionalidades que podem ser modificadas de acordo com o uso.\n",
    "def mensagem(msg):\n",
    "    print('-'*30)\n",
    "    print(msg)\n",
    "    print('-'*30)\n",
    "    \n",
    "mensagem('SISTEMA DE ALUNOS')\n",
    "#funções com somas\n",
    "def soma(a,b):\n",
    "    soma=a+b\n",
    "    print(soma)\n",
    "\n",
    "soma(1,2)\n",
    "#Empacotamento de parâmetros \n",
    "def contador(*num):\n",
    "    print(num)\n",
    "    \n",
    "    \n",
    "contador(2,3,4,5)\n",
    "contador(7,6,3,1)\n",
    "#soma com vários parâmetros\n",
    "def contador2(*num):\n",
    "    soma=0\n",
    "    for v in num:\n",
    "        soma+=v\n",
    "    print(soma)\n",
    "\n",
    "    \n",
    "contador2(9,8,7,4,3)\n",
    "\n",
    "#soma com vários parâmetros aplicativo melhor\n",
    "def somanumeros():\n",
    "    lista=[]    \n",
    "    \n",
    "    while True:\n",
    "        \n",
    "        \n",
    "        num=int(input(f'Valor: '))\n",
    "        lista.append(num)\n",
    "        continua=''\n",
    "        continua=str(input('Quer continuar? S|N:')).upper()[0]\n",
    "        soma=0\n",
    "        for v in lista:\n",
    "            soma+=v\n",
    "\n",
    "\n",
    "        if continua == 'N':\n",
    "            break\n",
    "    print(f'A soma dos valores: {soma}')\n",
    "\n",
    "somanumeros()"
   ]
  },
  {
   "cell_type": "code",
   "execution_count": 176,
   "id": "experienced-apache",
   "metadata": {},
   "outputs": [
    {
     "name": "stdout",
     "output_type": "stream",
     "text": [
      "Valor: 2\n",
      "Quer continuar? S|N:s\n",
      "Valor: 4\n",
      "Quer continuar? S|N:s\n",
      "Valor: 4\n",
      "Quer continuar? S|N:s\n",
      "Valor: 7\n",
      "Quer continuar? S|N:s\n",
      "Valor: 8\n",
      "Quer continuar? S|N:s\n",
      "Valor: 9\n",
      "Quer continuar? S|N:n\n",
      "Os valores digitados são: [2, 4, 4, 7, 8, 9]\n",
      "Os valores dobrados são: [4, 8, 8, 14, 16, 18]\n"
     ]
    }
   ],
   "source": [
    "#93 - Programa dobra valores em lista com vários parâmetros\n",
    "def somanumeros():\n",
    "    lista=[]    \n",
    "    lista2=[]\n",
    "    while True:\n",
    "        \n",
    "        \n",
    "        num=int(input(f'Valor: '))\n",
    "        lista.append(num)\n",
    "        continua=''\n",
    "        continua=str(input('Quer continuar? S|N:')).upper()[0]\n",
    "        for valor in lista:\n",
    "            valors=valor*2\n",
    "        lista2.append(valors)\n",
    "            \n",
    "            \n",
    "\n",
    "        if continua == 'N':\n",
    "            break\n",
    "    print(f'Os valores digitados são: {lista}')\n",
    "    print(f'Os valores dobrados são: {lista2}')\n",
    "\n",
    "somanumeros()"
   ]
  },
  {
   "cell_type": "code",
   "execution_count": 403,
   "id": "julian-liberal",
   "metadata": {},
   "outputs": [
    {
     "name": "stdout",
     "output_type": "stream",
     "text": [
      "largura: 14\n",
      "Comprimento5\n",
      "A Largura 14.0 m e o comprimento 5.0 m  do terreno.\n",
      "Area terreno= 70.0 m²\n"
     ]
    }
   ],
   "source": [
    "#94 - Programa que leia comprimento e largura de um terreno e retorne com a área (utilizando funções):\n",
    "\n",
    "def area(larg,comp):\n",
    "    \n",
    "    area=l*c\n",
    "    print(f'A Largura {l} m e o comprimento {c} m  do terreno.')\n",
    "    print(f'Área terreno= {area} m²')\n",
    "    \n",
    "    \n",
    "\n",
    "l=float(input('largura: '))\n",
    "\n",
    "c=float(input('Comprimento: '))    \n",
    "area(l,c)"
   ]
  },
  {
   "cell_type": "code",
   "execution_count": 177,
   "id": "powerful-vampire",
   "metadata": {},
   "outputs": [
    {
     "name": "stdout",
     "output_type": "stream",
     "text": [
      "----------------\n",
      "  Interessante\n",
      "----------------\n",
      "----------------------\n",
      "  Muito interessante\n",
      "----------------------\n",
      "----------------------\n",
      "  Super interessante\n",
      "----------------------\n"
     ]
    }
   ],
   "source": [
    "#95 - Programa que escreva um valor na tela com funções:\n",
    "\n",
    "def escreva(texto):\n",
    "    a=len(texto)+4\n",
    "    print('-'*a)\n",
    "    print(f'  {texto}')\n",
    "    print('-'*a)\n",
    "        \n",
    "    \n",
    "    \n",
    "\n",
    "escreva('Interessante')\n",
    "escreva('Muito interessante')\n",
    "escreva('Super interessante')"
   ]
  },
  {
   "cell_type": "code",
   "execution_count": 179,
   "id": "increasing-letter",
   "metadata": {},
   "outputs": [
    {
     "name": "stdout",
     "output_type": "stream",
     "text": [
      "------------------------------\n",
      "Contagem de 0 ate 10 de -1 em -1\n",
      "------------------------------\n",
      "Fim\n",
      "------------------------------\n",
      "Contagem de 20 ate 10 de -2 em -2\n",
      "------------------------------\n",
      "20  18  16  14  12  Fim\n",
      "Sua vez de personalizar a contagem: \n",
      "Início: 10\n",
      "Fim:0\n",
      "Passo: 2\n",
      "------------------------------\n",
      "Contagem de 10 ate 0 de -2 em -2\n",
      "------------------------------\n",
      "10  8  6  4  2  Fim\n"
     ]
    }
   ],
   "source": [
    "#96 - Programa função de Contador\n",
    "def contador(inicio,fim,passo):\n",
    "    if passo == 0:\n",
    "        passo=1\n",
    "    if passo > 0:\n",
    "        passo *= -1\n",
    "    from time import sleep\n",
    "    print('-'*30)\n",
    "    print(f'Contagem de {inicio} ate {fim} de {passo} em {passo}')\n",
    "    print('-'*30)\n",
    "    \n",
    "    for v in range(inicio,fim,passo):\n",
    "        print(f'{v}', end='  ')\n",
    "        sleep(0.2)\n",
    "    print('Fim')\n",
    "        \n",
    "        \n",
    "contador(0,10,1)\n",
    "contador(20,10,-2)\n",
    "print('Sua vez de personalizar a contagem: ')\n",
    "inicio=int(input('Início: '))\n",
    "fim=int(input('Fim:'))\n",
    "passo=int(input('Passo: '))\n",
    "contador(inicio,fim,passo)"
   ]
  },
  {
   "cell_type": "code",
   "execution_count": 180,
   "id": "dangerous-california",
   "metadata": {},
   "outputs": [
    {
     "name": "stdout",
     "output_type": "stream",
     "text": [
      "------------------------------\n",
      "Analisando os valores passados\n",
      "------------------------------\n",
      "Foram analizados 7 valores\n",
      "4 5 6 7 9 15 20 FIM\n",
      "\n",
      "O maior é 20\n",
      "------------------------------\n",
      "Analisando os valores passados\n",
      "------------------------------\n",
      "Foram analizados 4 valores\n",
      "2 1 6 7 FIM\n",
      "\n",
      "O maior é 7\n",
      "------------------------------\n",
      "Analisando os valores passados\n",
      "------------------------------\n",
      "Foram analizados 1 valores\n",
      "6 FIM\n",
      "\n",
      "O maior é 6\n",
      "------------------------------\n",
      "Analisando os valores passados\n",
      "------------------------------\n",
      "Foram analizados 1 valores\n",
      "0 FIM\n",
      "\n",
      "Você não digitou nenhum valor\n"
     ]
    }
   ],
   "source": [
    "#97 - Programa: função que descobre o maior:\n",
    "def lin():\n",
    "    print('-'*30)\n",
    "def maior(*num):\n",
    "    from time import sleep\n",
    "    lin()\n",
    "    print('Analisando os valores passados')\n",
    "    lin()\n",
    "    valores=len(num)\n",
    "    print(f'Foram analizados {valores} valores')\n",
    "    for v in num:\n",
    "        print(v, end=' ')\n",
    "        sleep(0.3)\n",
    "    print('FIM\\n')\n",
    "        \n",
    "    \n",
    "    maiores=max(num)\n",
    "    if maiores== 0:\n",
    "        print('Você não digitou nenhum valor')\n",
    "    else:\n",
    "        print(f'O maior é {maiores}')\n",
    "        \n",
    "maior(4,5,6,7,9,15,20)\n",
    "maior(2,1,6,7)\n",
    "maior(6)\n",
    "maior(0)\n"
   ]
  },
  {
   "cell_type": "code",
   "execution_count": 182,
   "id": "formed-treasure",
   "metadata": {},
   "outputs": [
    {
     "name": "stdout",
     "output_type": "stream",
     "text": [
      "Os valores gerados foram [7, 7, 4, 7, 3]\n",
      "A soma dos valores pares deu 4\n"
     ]
    }
   ],
   "source": [
    "#98 - Programa função geradora de valores e soma dos pares:\n",
    "\n",
    "def func():\n",
    "    from random import randint\n",
    "    lista=[]\n",
    "    somapar=0\n",
    "    for i in range(1,6):\n",
    "        i=randint(0,10)\n",
    "        lista.append(i)\n",
    "    for v in lista:\n",
    "        if v % 2 ==0:\n",
    "            somapar+=v\n",
    "        \n",
    "    \n",
    "    print(f'Os valores gerados foram {lista}')\n",
    "    print(f'A soma dos valores pares deu {somapar}')\n",
    "    \n",
    "func()"
   ]
  }
 ],
 "metadata": {
  "kernelspec": {
   "display_name": "Python 3",
   "language": "python",
   "name": "python3"
  },
  "language_info": {
   "codemirror_mode": {
    "name": "ipython",
    "version": 3
   },
   "file_extension": ".py",
   "mimetype": "text/x-python",
   "name": "python",
   "nbconvert_exporter": "python",
   "pygments_lexer": "ipython3",
   "version": "3.8.5"
  }
 },
 "nbformat": 4,
 "nbformat_minor": 5
}
